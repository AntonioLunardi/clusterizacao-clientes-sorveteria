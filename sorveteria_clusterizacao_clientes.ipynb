{
 "cells": [
  {
   "attachments": {},
   "cell_type": "markdown",
   "metadata": {},
   "source": [
    "Referências: \n",
    "- HUANG, Zhexue. Extensions to the k-means algorithm for clustering large data sets with categorical values. Data mining and knowledge discovery, v. 2, n. 3, p. 283-304, 1998.\n",
    "- https://sproutsocial.com/pt/insights/new-social-media-demographics-pt_br/- \n",
    "- https://www.alura.com.br/curso-online-cluster-analysis\n",
    "- GERON, A. Mãos à Obra Aprendizado de Máquina com Scikit-learn & TensorFlow: Conceitos. Ferramentas e Técnicas Para a Construção de Sistemas Inteligentes, p. 576, 2019\n",
    "- https://towardsdatascience.com/customer-segmentation-using-k-means-clustering-d33964f238c3\n",
    "- https://dwdigital.com.br/canais-de-marketing-para-alcancar-a-geracao-z/\n",
    "- https://www.next4.com.br/marketing-digital-para-idosos-crescimento-exponencial-nos-ultimos-anos-e-muita-oportunidade-para-sua-empresa/\n",
    "- https://consumidormoderno.com.br/2021/06/18/estrategias-marketing-geracao-x/"
   ]
  },
  {
   "cell_type": "code",
   "execution_count": 496,
   "metadata": {},
   "outputs": [],
   "source": [
    "# Evitar mensagens de warning\n",
    "import warnings\n",
    "warnings.filterwarnings(\"ignore\") "
   ]
  },
  {
   "cell_type": "code",
   "execution_count": 497,
   "metadata": {},
   "outputs": [],
   "source": [
    "# Importando bibliotecas\n",
    "import pandas as pd\n",
    "import numpy as np\n",
    "import seaborn as sns\n",
    "import matplotlib.pyplot as plt  \n",
    "from sklearn.preprocessing import StandardScaler\n",
    "from sklearn.cluster import KMeans"
   ]
  },
  {
   "cell_type": "code",
   "execution_count": 498,
   "metadata": {},
   "outputs": [],
   "source": [
    "# Importando as bases de dados\n",
    "portfolio = pd.read_csv(r'C:\\Users\\USER\\Desktop\\vaga estágio\\portfolio_ofertas.csv')\n",
    "clientes =  pd.read_csv(r'C:\\Users\\USER\\Desktop\\vaga estágio\\dados_clientes.csv')\n",
    "eventos =   pd.read_csv(r'C:\\Users\\USER\\Desktop\\vaga estágio\\eventos_ofertas.csv', encoding='latin-1')"
   ]
  },
  {
   "attachments": {},
   "cell_type": "markdown",
   "metadata": {},
   "source": [
    "## 1.0 Observação inicial e limpeza das bases de dados"
   ]
  },
  {
   "attachments": {},
   "cell_type": "markdown",
   "metadata": {},
   "source": [
    "### 1.1 Data frame de portfólio"
   ]
  },
  {
   "attachments": {},
   "cell_type": "markdown",
   "metadata": {},
   "source": [
    "### "
   ]
  },
  {
   "cell_type": "code",
   "execution_count": 499,
   "metadata": {},
   "outputs": [
    {
     "data": {
      "text/html": [
       "<div>\n",
       "<style scoped>\n",
       "    .dataframe tbody tr th:only-of-type {\n",
       "        vertical-align: middle;\n",
       "    }\n",
       "\n",
       "    .dataframe tbody tr th {\n",
       "        vertical-align: top;\n",
       "    }\n",
       "\n",
       "    .dataframe thead th {\n",
       "        text-align: right;\n",
       "    }\n",
       "</style>\n",
       "<table border=\"1\" class=\"dataframe\">\n",
       "  <thead>\n",
       "    <tr style=\"text-align: right;\">\n",
       "      <th></th>\n",
       "      <th>Unnamed: 0</th>\n",
       "      <th>recompensa</th>\n",
       "      <th>canal</th>\n",
       "      <th>valor_minimo</th>\n",
       "      <th>duracao</th>\n",
       "      <th>id</th>\n",
       "      <th>oferta</th>\n",
       "    </tr>\n",
       "  </thead>\n",
       "  <tbody>\n",
       "    <tr>\n",
       "      <th>0</th>\n",
       "      <td>1</td>\n",
       "      <td>10</td>\n",
       "      <td>['email', 'mobile', 'social']</td>\n",
       "      <td>10</td>\n",
       "      <td>7</td>\n",
       "      <td>ae264e3637204a6fb9bb56bc8210ddfd</td>\n",
       "      <td>compre 1, leve 2</td>\n",
       "    </tr>\n",
       "    <tr>\n",
       "      <th>1</th>\n",
       "      <td>2</td>\n",
       "      <td>10</td>\n",
       "      <td>['web', 'email', 'mobile', 'social']</td>\n",
       "      <td>10</td>\n",
       "      <td>5</td>\n",
       "      <td>4d5c57ea9a6940dd891ad53e9dbe8da0</td>\n",
       "      <td>compre 1, leve 2</td>\n",
       "    </tr>\n",
       "    <tr>\n",
       "      <th>2</th>\n",
       "      <td>3</td>\n",
       "      <td>0</td>\n",
       "      <td>['web', 'email', 'mobile']</td>\n",
       "      <td>0</td>\n",
       "      <td>4</td>\n",
       "      <td>3f207df678b143eea3cee63160fa8bed</td>\n",
       "      <td>informativo</td>\n",
       "    </tr>\n",
       "    <tr>\n",
       "      <th>3</th>\n",
       "      <td>4</td>\n",
       "      <td>5</td>\n",
       "      <td>['web', 'email', 'mobile']</td>\n",
       "      <td>5</td>\n",
       "      <td>7</td>\n",
       "      <td>9b98b8c7a33c4b65b9aebfe6a799e6d9</td>\n",
       "      <td>compre 1, leve 2</td>\n",
       "    </tr>\n",
       "    <tr>\n",
       "      <th>4</th>\n",
       "      <td>5</td>\n",
       "      <td>5</td>\n",
       "      <td>['web', 'email']</td>\n",
       "      <td>20</td>\n",
       "      <td>10</td>\n",
       "      <td>0b1e1539f2cc45b7b9fa7c272da2e1d7</td>\n",
       "      <td>desconto</td>\n",
       "    </tr>\n",
       "    <tr>\n",
       "      <th>5</th>\n",
       "      <td>6</td>\n",
       "      <td>3</td>\n",
       "      <td>['web', 'email', 'mobile', 'social']</td>\n",
       "      <td>7</td>\n",
       "      <td>7</td>\n",
       "      <td>2298d6c36e964ae4a3e7e9706d1fb8c2</td>\n",
       "      <td>desconto</td>\n",
       "    </tr>\n",
       "    <tr>\n",
       "      <th>6</th>\n",
       "      <td>7</td>\n",
       "      <td>2</td>\n",
       "      <td>['web', 'email', 'mobile', 'social']</td>\n",
       "      <td>10</td>\n",
       "      <td>10</td>\n",
       "      <td>fafdcd668e3743c1bb461111dcafc2a4</td>\n",
       "      <td>desconto</td>\n",
       "    </tr>\n",
       "    <tr>\n",
       "      <th>7</th>\n",
       "      <td>8</td>\n",
       "      <td>0</td>\n",
       "      <td>['email', 'mobile', 'social']</td>\n",
       "      <td>0</td>\n",
       "      <td>3</td>\n",
       "      <td>5a8bc65990b245e5a138643cd4eb9837</td>\n",
       "      <td>informativo</td>\n",
       "    </tr>\n",
       "    <tr>\n",
       "      <th>8</th>\n",
       "      <td>9</td>\n",
       "      <td>5</td>\n",
       "      <td>['web', 'email', 'mobile', 'social']</td>\n",
       "      <td>5</td>\n",
       "      <td>5</td>\n",
       "      <td>f19421c1d4aa40978ebb69ca19b0e20d</td>\n",
       "      <td>compre 1, leve 2</td>\n",
       "    </tr>\n",
       "    <tr>\n",
       "      <th>9</th>\n",
       "      <td>10</td>\n",
       "      <td>2</td>\n",
       "      <td>['web', 'email', 'mobile']</td>\n",
       "      <td>10</td>\n",
       "      <td>7</td>\n",
       "      <td>2906b810c7d4411798c6938adc9daaa5</td>\n",
       "      <td>desconto</td>\n",
       "    </tr>\n",
       "  </tbody>\n",
       "</table>\n",
       "</div>"
      ],
      "text/plain": [
       "   Unnamed: 0  recompensa                                 canal  valor_minimo  \\\n",
       "0           1          10         ['email', 'mobile', 'social']            10   \n",
       "1           2          10  ['web', 'email', 'mobile', 'social']            10   \n",
       "2           3           0            ['web', 'email', 'mobile']             0   \n",
       "3           4           5            ['web', 'email', 'mobile']             5   \n",
       "4           5           5                      ['web', 'email']            20   \n",
       "5           6           3  ['web', 'email', 'mobile', 'social']             7   \n",
       "6           7           2  ['web', 'email', 'mobile', 'social']            10   \n",
       "7           8           0         ['email', 'mobile', 'social']             0   \n",
       "8           9           5  ['web', 'email', 'mobile', 'social']             5   \n",
       "9          10           2            ['web', 'email', 'mobile']            10   \n",
       "\n",
       "   duracao                                id            oferta  \n",
       "0        7  ae264e3637204a6fb9bb56bc8210ddfd  compre 1, leve 2  \n",
       "1        5  4d5c57ea9a6940dd891ad53e9dbe8da0  compre 1, leve 2  \n",
       "2        4  3f207df678b143eea3cee63160fa8bed       informativo  \n",
       "3        7  9b98b8c7a33c4b65b9aebfe6a799e6d9  compre 1, leve 2  \n",
       "4       10  0b1e1539f2cc45b7b9fa7c272da2e1d7          desconto  \n",
       "5        7  2298d6c36e964ae4a3e7e9706d1fb8c2          desconto  \n",
       "6       10  fafdcd668e3743c1bb461111dcafc2a4          desconto  \n",
       "7        3  5a8bc65990b245e5a138643cd4eb9837       informativo  \n",
       "8        5  f19421c1d4aa40978ebb69ca19b0e20d  compre 1, leve 2  \n",
       "9        7  2906b810c7d4411798c6938adc9daaa5          desconto  "
      ]
     },
     "execution_count": 499,
     "metadata": {},
     "output_type": "execute_result"
    }
   ],
   "source": [
    "portfolio"
   ]
  },
  {
   "cell_type": "code",
   "execution_count": 500,
   "metadata": {},
   "outputs": [],
   "source": [
    "# Coluna de index estava duplicada\n",
    "portfolio = portfolio.drop(columns='Unnamed: 0')"
   ]
  },
  {
   "cell_type": "code",
   "execution_count": 501,
   "metadata": {},
   "outputs": [
    {
     "data": {
      "text/plain": [
       "recompensa       int64\n",
       "canal           object\n",
       "valor_minimo     int64\n",
       "duracao          int64\n",
       "id              object\n",
       "oferta          object\n",
       "dtype: object"
      ]
     },
     "execution_count": 501,
     "metadata": {},
     "output_type": "execute_result"
    }
   ],
   "source": [
    "# Checagem de tipos\n",
    "portfolio.dtypes"
   ]
  },
  {
   "attachments": {},
   "cell_type": "markdown",
   "metadata": {},
   "source": [
    "Por se tratar de um DF de 10 linhas, é possível notar que não possui dados incoerentes"
   ]
  },
  {
   "attachments": {},
   "cell_type": "markdown",
   "metadata": {},
   "source": [
    "### 1.2 Data frame de clientes"
   ]
  },
  {
   "cell_type": "code",
   "execution_count": 502,
   "metadata": {},
   "outputs": [
    {
     "data": {
      "text/html": [
       "<div>\n",
       "<style scoped>\n",
       "    .dataframe tbody tr th:only-of-type {\n",
       "        vertical-align: middle;\n",
       "    }\n",
       "\n",
       "    .dataframe tbody tr th {\n",
       "        vertical-align: top;\n",
       "    }\n",
       "\n",
       "    .dataframe thead th {\n",
       "        text-align: right;\n",
       "    }\n",
       "</style>\n",
       "<table border=\"1\" class=\"dataframe\">\n",
       "  <thead>\n",
       "    <tr style=\"text-align: right;\">\n",
       "      <th></th>\n",
       "      <th>Unnamed: 0</th>\n",
       "      <th>genero</th>\n",
       "      <th>idade</th>\n",
       "      <th>id</th>\n",
       "      <th>membro_desde</th>\n",
       "      <th>renda_anual</th>\n",
       "    </tr>\n",
       "  </thead>\n",
       "  <tbody>\n",
       "    <tr>\n",
       "      <th>0</th>\n",
       "      <td>1</td>\n",
       "      <td>NaN</td>\n",
       "      <td>118</td>\n",
       "      <td>68be06ca386d4c31939f3a4f0e3dd783</td>\n",
       "      <td>20170212</td>\n",
       "      <td>NaN</td>\n",
       "    </tr>\n",
       "    <tr>\n",
       "      <th>1</th>\n",
       "      <td>2</td>\n",
       "      <td>F</td>\n",
       "      <td>55</td>\n",
       "      <td>0610b486422d4921ae7d2bf64640c50b</td>\n",
       "      <td>20170715</td>\n",
       "      <td>112000</td>\n",
       "    </tr>\n",
       "    <tr>\n",
       "      <th>2</th>\n",
       "      <td>3</td>\n",
       "      <td>NaN</td>\n",
       "      <td>118</td>\n",
       "      <td>38fe809add3b4fcf9315a9694bb96ff5</td>\n",
       "      <td>20180712</td>\n",
       "      <td>NaN</td>\n",
       "    </tr>\n",
       "    <tr>\n",
       "      <th>3</th>\n",
       "      <td>4</td>\n",
       "      <td>F</td>\n",
       "      <td>75</td>\n",
       "      <td>78afa995795e4d85b5d9ceeca43f5fef</td>\n",
       "      <td>20170509</td>\n",
       "      <td>1,00E+05</td>\n",
       "    </tr>\n",
       "    <tr>\n",
       "      <th>4</th>\n",
       "      <td>5</td>\n",
       "      <td>NaN</td>\n",
       "      <td>118</td>\n",
       "      <td>a03223e636434f42ac4c3df47e8bac43</td>\n",
       "      <td>20170804</td>\n",
       "      <td>NaN</td>\n",
       "    </tr>\n",
       "    <tr>\n",
       "      <th>...</th>\n",
       "      <td>...</td>\n",
       "      <td>...</td>\n",
       "      <td>...</td>\n",
       "      <td>...</td>\n",
       "      <td>...</td>\n",
       "      <td>...</td>\n",
       "    </tr>\n",
       "    <tr>\n",
       "      <th>16995</th>\n",
       "      <td>16996</td>\n",
       "      <td>F</td>\n",
       "      <td>45</td>\n",
       "      <td>6d5f3a774f3d4714ab0c092238f3a1d7</td>\n",
       "      <td>20180604</td>\n",
       "      <td>54000</td>\n",
       "    </tr>\n",
       "    <tr>\n",
       "      <th>16996</th>\n",
       "      <td>16997</td>\n",
       "      <td>M</td>\n",
       "      <td>61</td>\n",
       "      <td>2cb4f97358b841b9a9773a7aa05a9d77</td>\n",
       "      <td>20180713</td>\n",
       "      <td>72000</td>\n",
       "    </tr>\n",
       "    <tr>\n",
       "      <th>16997</th>\n",
       "      <td>16998</td>\n",
       "      <td>M</td>\n",
       "      <td>49</td>\n",
       "      <td>01d26f638c274aa0b965d24cefe3183f</td>\n",
       "      <td>20170126</td>\n",
       "      <td>73000</td>\n",
       "    </tr>\n",
       "    <tr>\n",
       "      <th>16998</th>\n",
       "      <td>16999</td>\n",
       "      <td>F</td>\n",
       "      <td>83</td>\n",
       "      <td>9dc1421481194dcd9400aec7c9ae6366</td>\n",
       "      <td>20160307</td>\n",
       "      <td>50000</td>\n",
       "    </tr>\n",
       "    <tr>\n",
       "      <th>16999</th>\n",
       "      <td>17000</td>\n",
       "      <td>F</td>\n",
       "      <td>62</td>\n",
       "      <td>e4052622e5ba45a8b96b59aba68cf068</td>\n",
       "      <td>20170722</td>\n",
       "      <td>82000</td>\n",
       "    </tr>\n",
       "  </tbody>\n",
       "</table>\n",
       "<p>17000 rows × 6 columns</p>\n",
       "</div>"
      ],
      "text/plain": [
       "       Unnamed: 0 genero  idade                                id  \\\n",
       "0               1    NaN    118  68be06ca386d4c31939f3a4f0e3dd783   \n",
       "1               2      F     55  0610b486422d4921ae7d2bf64640c50b   \n",
       "2               3    NaN    118  38fe809add3b4fcf9315a9694bb96ff5   \n",
       "3               4      F     75  78afa995795e4d85b5d9ceeca43f5fef   \n",
       "4               5    NaN    118  a03223e636434f42ac4c3df47e8bac43   \n",
       "...           ...    ...    ...                               ...   \n",
       "16995       16996      F     45  6d5f3a774f3d4714ab0c092238f3a1d7   \n",
       "16996       16997      M     61  2cb4f97358b841b9a9773a7aa05a9d77   \n",
       "16997       16998      M     49  01d26f638c274aa0b965d24cefe3183f   \n",
       "16998       16999      F     83  9dc1421481194dcd9400aec7c9ae6366   \n",
       "16999       17000      F     62  e4052622e5ba45a8b96b59aba68cf068   \n",
       "\n",
       "       membro_desde renda_anual  \n",
       "0          20170212         NaN  \n",
       "1          20170715      112000  \n",
       "2          20180712         NaN  \n",
       "3          20170509    1,00E+05  \n",
       "4          20170804         NaN  \n",
       "...             ...         ...  \n",
       "16995      20180604       54000  \n",
       "16996      20180713       72000  \n",
       "16997      20170126       73000  \n",
       "16998      20160307       50000  \n",
       "16999      20170722       82000  \n",
       "\n",
       "[17000 rows x 6 columns]"
      ]
     },
     "execution_count": 502,
     "metadata": {},
     "output_type": "execute_result"
    }
   ],
   "source": [
    "clientes"
   ]
  },
  {
   "cell_type": "code",
   "execution_count": 503,
   "metadata": {},
   "outputs": [
    {
     "data": {
      "text/plain": [
       "genero  idade  id     membro_desde  renda_anual\n",
       "False   False  False  False         False          14825\n",
       "True    False  False  False         True            2175\n",
       "dtype: int64"
      ]
     },
     "execution_count": 503,
     "metadata": {},
     "output_type": "execute_result"
    }
   ],
   "source": [
    "# Index duplicado\n",
    "clientes = clientes.drop(columns='Unnamed: 0')\n",
    "\n",
    "# Contagem de NaNs\n",
    "clientes.isna().value_counts()"
   ]
  },
  {
   "cell_type": "code",
   "execution_count": 504,
   "metadata": {},
   "outputs": [
    {
     "data": {
      "text/plain": [
       "(17000, 5)"
      ]
     },
     "execution_count": 504,
     "metadata": {},
     "output_type": "execute_result"
    }
   ],
   "source": [
    "clientes.shape"
   ]
  },
  {
   "cell_type": "code",
   "execution_count": 505,
   "metadata": {},
   "outputs": [
    {
     "data": {
      "text/plain": [
       "genero          object\n",
       "idade            int64\n",
       "id              object\n",
       "membro_desde     int64\n",
       "renda_anual     object\n",
       "dtype: object"
      ]
     },
     "execution_count": 505,
     "metadata": {},
     "output_type": "execute_result"
    }
   ],
   "source": [
    "clientes.dtypes"
   ]
  },
  {
   "attachments": {},
   "cell_type": "markdown",
   "metadata": {},
   "source": [
    "É possível notar que a coluna de 'membro_desde' contém números inteiros. É preciso convertê-la para o tipo data:"
   ]
  },
  {
   "cell_type": "code",
   "execution_count": 506,
   "metadata": {},
   "outputs": [
    {
     "data": {
      "text/plain": [
       "16997   2017-01-26\n",
       "16998   2016-03-07\n",
       "16999   2017-07-22\n",
       "Name: membro_desde, dtype: datetime64[ns]"
      ]
     },
     "execution_count": 506,
     "metadata": {},
     "output_type": "execute_result"
    }
   ],
   "source": [
    "# Converter coluna de inteiros em tipo data\n",
    "clientes['membro_desde'] = pd.to_datetime(clientes['membro_desde'], format='%Y%m%d')\n",
    "clientes['membro_desde'].tail(3)"
   ]
  },
  {
   "attachments": {},
   "cell_type": "markdown",
   "metadata": {},
   "source": [
    "Os dados de faltantes de renda e gênero ocorrem sempre em pares em todos os casos. O que pode indicar algum tipo de coleta ou registro de dados problemática. É possível verificar se a idade frequente de 118 anos ocorre juntamente com os outros dois problemas:"
   ]
  },
  {
   "cell_type": "code",
   "execution_count": 507,
   "metadata": {},
   "outputs": [
    {
     "data": {
      "text/html": [
       "<div>\n",
       "<style scoped>\n",
       "    .dataframe tbody tr th:only-of-type {\n",
       "        vertical-align: middle;\n",
       "    }\n",
       "\n",
       "    .dataframe tbody tr th {\n",
       "        vertical-align: top;\n",
       "    }\n",
       "\n",
       "    .dataframe thead th {\n",
       "        text-align: right;\n",
       "    }\n",
       "</style>\n",
       "<table border=\"1\" class=\"dataframe\">\n",
       "  <thead>\n",
       "    <tr style=\"text-align: right;\">\n",
       "      <th></th>\n",
       "      <th>genero</th>\n",
       "      <th>idade</th>\n",
       "      <th>id</th>\n",
       "      <th>membro_desde</th>\n",
       "      <th>renda_anual</th>\n",
       "    </tr>\n",
       "  </thead>\n",
       "  <tbody>\n",
       "    <tr>\n",
       "      <th>16997</th>\n",
       "      <td>M</td>\n",
       "      <td>49</td>\n",
       "      <td>01d26f638c274aa0b965d24cefe3183f</td>\n",
       "      <td>2017-01-26</td>\n",
       "      <td>73000</td>\n",
       "    </tr>\n",
       "    <tr>\n",
       "      <th>16998</th>\n",
       "      <td>F</td>\n",
       "      <td>83</td>\n",
       "      <td>9dc1421481194dcd9400aec7c9ae6366</td>\n",
       "      <td>2016-03-07</td>\n",
       "      <td>50000</td>\n",
       "    </tr>\n",
       "    <tr>\n",
       "      <th>16999</th>\n",
       "      <td>F</td>\n",
       "      <td>62</td>\n",
       "      <td>e4052622e5ba45a8b96b59aba68cf068</td>\n",
       "      <td>2017-07-22</td>\n",
       "      <td>82000</td>\n",
       "    </tr>\n",
       "  </tbody>\n",
       "</table>\n",
       "</div>"
      ],
      "text/plain": [
       "      genero  idade                                id membro_desde renda_anual\n",
       "16997      M     49  01d26f638c274aa0b965d24cefe3183f   2017-01-26       73000\n",
       "16998      F     83  9dc1421481194dcd9400aec7c9ae6366   2016-03-07       50000\n",
       "16999      F     62  e4052622e5ba45a8b96b59aba68cf068   2017-07-22       82000"
      ]
     },
     "execution_count": 507,
     "metadata": {},
     "output_type": "execute_result"
    }
   ],
   "source": [
    "clientes.isna().value_counts()\n",
    "clientes.tail(3)"
   ]
  },
  {
   "cell_type": "code",
   "execution_count": 508,
   "metadata": {},
   "outputs": [
    {
     "data": {
      "text/plain": [
       "0        68be06ca386d4c31939f3a4f0e3dd783\n",
       "2        38fe809add3b4fcf9315a9694bb96ff5\n",
       "4        a03223e636434f42ac4c3df47e8bac43\n",
       "6        8ec6ce2a7e7949b1bf142def7d0e0586\n",
       "7        68617ca6246f4fbc85e91a2a49552598\n",
       "                       ...               \n",
       "16980    5c686d09ca4d475a8f750f2ba07e0440\n",
       "16982    d9ca82f550ac4ee58b6299cf1e5c824a\n",
       "16989    ca45ee1883624304bac1e4c8a114f045\n",
       "16991    a9a20fa8b5504360beb4e7c8712f8306\n",
       "16994    c02b10e8752c4d8e9b73f918558531f7\n",
       "Name: id, Length: 2175, dtype: object"
      ]
     },
     "execution_count": 508,
     "metadata": {},
     "output_type": "execute_result"
    }
   ],
   "source": [
    "# Salvando os IDs removidos em outro para abatê-los do DF\n",
    "ids_removidos = clientes[clientes['idade'] == 118]\n",
    "ids_removidos = pd.Series(ids_removidos['id'])\n",
    "ids_removidos"
   ]
  },
  {
   "cell_type": "code",
   "execution_count": 509,
   "metadata": {},
   "outputs": [
    {
     "data": {
      "text/plain": [
       "genero  idade  id     membro_desde  renda_anual\n",
       "False   False  False  False         False          14825\n",
       "dtype: int64"
      ]
     },
     "execution_count": 509,
     "metadata": {},
     "output_type": "execute_result"
    }
   ],
   "source": [
    "# Dados faltantes de gênero\n",
    "clientes = clientes[clientes['idade'] != 118]\n",
    "clientes.isna().value_counts()"
   ]
  },
  {
   "attachments": {},
   "cell_type": "markdown",
   "metadata": {},
   "source": [
    "Como o esperado, todos os registros com a idade notoriamente estranha de 118 anos eram os que também tinham renda e gênero como NaNs. Assim, não faria sentido completar com a média a renda ou mesmo aleatoriezar valores de gênero, pois isso apenas diluiria os dados relevantes e não seria mantida nenhuma informação relevante na base de dados. O melhor a se fazer realmente é descartar os dados incoerentes."
   ]
  },
  {
   "attachments": {},
   "cell_type": "markdown",
   "metadata": {},
   "source": [
    "A renda anual deve ser convertida para algum tipo numérico para que seja utilizada estatisticamente"
   ]
  },
  {
   "cell_type": "code",
   "execution_count": 510,
   "metadata": {},
   "outputs": [
    {
     "data": {
      "text/plain": [
       "1          112000\n",
       "3        10000000\n",
       "5           70000\n",
       "8           53000\n",
       "12          51000\n",
       "           ...   \n",
       "16995       54000\n",
       "16996       72000\n",
       "16997       73000\n",
       "16998       50000\n",
       "16999       82000\n",
       "Name: renda_anual, Length: 14825, dtype: int32"
      ]
     },
     "execution_count": 510,
     "metadata": {},
     "output_type": "execute_result"
    }
   ],
   "source": [
    "# Removendo a vírgula e a notação científica e convertendo para inteiro\n",
    "clientes['renda_anual'] = clientes['renda_anual'].str.replace(',', '').astype(float).astype(int)\n",
    "clientes['renda_anual']"
   ]
  },
  {
   "cell_type": "code",
   "execution_count": 511,
   "metadata": {},
   "outputs": [
    {
     "data": {
      "text/html": [
       "<div>\n",
       "<style scoped>\n",
       "    .dataframe tbody tr th:only-of-type {\n",
       "        vertical-align: middle;\n",
       "    }\n",
       "\n",
       "    .dataframe tbody tr th {\n",
       "        vertical-align: top;\n",
       "    }\n",
       "\n",
       "    .dataframe thead th {\n",
       "        text-align: right;\n",
       "    }\n",
       "</style>\n",
       "<table border=\"1\" class=\"dataframe\">\n",
       "  <thead>\n",
       "    <tr style=\"text-align: right;\">\n",
       "      <th></th>\n",
       "      <th>idade</th>\n",
       "      <th>renda_anual</th>\n",
       "    </tr>\n",
       "  </thead>\n",
       "  <tbody>\n",
       "    <tr>\n",
       "      <th>count</th>\n",
       "      <td>14825.000000</td>\n",
       "      <td>1.482500e+04</td>\n",
       "    </tr>\n",
       "    <tr>\n",
       "      <th>mean</th>\n",
       "      <td>54.393524</td>\n",
       "      <td>1.235028e+05</td>\n",
       "    </tr>\n",
       "    <tr>\n",
       "      <th>std</th>\n",
       "      <td>17.383705</td>\n",
       "      <td>7.591561e+05</td>\n",
       "    </tr>\n",
       "    <tr>\n",
       "      <th>min</th>\n",
       "      <td>18.000000</td>\n",
       "      <td>3.000000e+04</td>\n",
       "    </tr>\n",
       "    <tr>\n",
       "      <th>25%</th>\n",
       "      <td>42.000000</td>\n",
       "      <td>4.900000e+04</td>\n",
       "    </tr>\n",
       "    <tr>\n",
       "      <th>50%</th>\n",
       "      <td>55.000000</td>\n",
       "      <td>6.400000e+04</td>\n",
       "    </tr>\n",
       "    <tr>\n",
       "      <th>75%</th>\n",
       "      <td>66.000000</td>\n",
       "      <td>8.000000e+04</td>\n",
       "    </tr>\n",
       "    <tr>\n",
       "      <th>max</th>\n",
       "      <td>101.000000</td>\n",
       "      <td>1.000000e+07</td>\n",
       "    </tr>\n",
       "  </tbody>\n",
       "</table>\n",
       "</div>"
      ],
      "text/plain": [
       "              idade   renda_anual\n",
       "count  14825.000000  1.482500e+04\n",
       "mean      54.393524  1.235028e+05\n",
       "std       17.383705  7.591561e+05\n",
       "min       18.000000  3.000000e+04\n",
       "25%       42.000000  4.900000e+04\n",
       "50%       55.000000  6.400000e+04\n",
       "75%       66.000000  8.000000e+04\n",
       "max      101.000000  1.000000e+07"
      ]
     },
     "execution_count": 511,
     "metadata": {},
     "output_type": "execute_result"
    }
   ],
   "source": [
    "clientes.describe()"
   ]
  },
  {
   "attachments": {},
   "cell_type": "markdown",
   "metadata": {},
   "source": [
    "Os valores máximo e mínimo parecem coerentes para idade e renda"
   ]
  },
  {
   "cell_type": "code",
   "execution_count": 512,
   "metadata": {},
   "outputs": [
    {
     "data": {
      "text/html": [
       "<div>\n",
       "<style scoped>\n",
       "    .dataframe tbody tr th:only-of-type {\n",
       "        vertical-align: middle;\n",
       "    }\n",
       "\n",
       "    .dataframe tbody tr th {\n",
       "        vertical-align: top;\n",
       "    }\n",
       "\n",
       "    .dataframe thead th {\n",
       "        text-align: right;\n",
       "    }\n",
       "</style>\n",
       "<table border=\"1\" class=\"dataframe\">\n",
       "  <thead>\n",
       "    <tr style=\"text-align: right;\">\n",
       "      <th></th>\n",
       "      <th>genero</th>\n",
       "      <th>id</th>\n",
       "    </tr>\n",
       "  </thead>\n",
       "  <tbody>\n",
       "    <tr>\n",
       "      <th>count</th>\n",
       "      <td>14825</td>\n",
       "      <td>14825</td>\n",
       "    </tr>\n",
       "    <tr>\n",
       "      <th>unique</th>\n",
       "      <td>3</td>\n",
       "      <td>14825</td>\n",
       "    </tr>\n",
       "    <tr>\n",
       "      <th>top</th>\n",
       "      <td>M</td>\n",
       "      <td>0610b486422d4921ae7d2bf64640c50b</td>\n",
       "    </tr>\n",
       "    <tr>\n",
       "      <th>freq</th>\n",
       "      <td>8484</td>\n",
       "      <td>1</td>\n",
       "    </tr>\n",
       "  </tbody>\n",
       "</table>\n",
       "</div>"
      ],
      "text/plain": [
       "       genero                                id\n",
       "count   14825                             14825\n",
       "unique      3                             14825\n",
       "top         M  0610b486422d4921ae7d2bf64640c50b\n",
       "freq     8484                                 1"
      ]
     },
     "execution_count": 512,
     "metadata": {},
     "output_type": "execute_result"
    }
   ],
   "source": [
    "clientes.describe(include = ['object'])"
   ]
  },
  {
   "attachments": {},
   "cell_type": "markdown",
   "metadata": {},
   "source": [
    "Não há IDs repetidos. \n",
    "Há 3 descrições descrições de gênero:"
   ]
  },
  {
   "cell_type": "code",
   "execution_count": 513,
   "metadata": {},
   "outputs": [
    {
     "data": {
      "text/plain": [
       "array(['F', 'M', 'O'], dtype=object)"
      ]
     },
     "execution_count": 513,
     "metadata": {},
     "output_type": "execute_result"
    }
   ],
   "source": [
    "clientes['genero'].unique()"
   ]
  },
  {
   "attachments": {},
   "cell_type": "markdown",
   "metadata": {},
   "source": [
    "### 1.3 Data frame de eventos"
   ]
  },
  {
   "cell_type": "code",
   "execution_count": 514,
   "metadata": {},
   "outputs": [
    {
     "data": {
      "text/html": [
       "<div>\n",
       "<style scoped>\n",
       "    .dataframe tbody tr th:only-of-type {\n",
       "        vertical-align: middle;\n",
       "    }\n",
       "\n",
       "    .dataframe tbody tr th {\n",
       "        vertical-align: top;\n",
       "    }\n",
       "\n",
       "    .dataframe thead th {\n",
       "        text-align: right;\n",
       "    }\n",
       "</style>\n",
       "<table border=\"1\" class=\"dataframe\">\n",
       "  <thead>\n",
       "    <tr style=\"text-align: right;\">\n",
       "      <th></th>\n",
       "      <th>Unnamed: 0</th>\n",
       "      <th>cliente</th>\n",
       "      <th>tempo_decorrido</th>\n",
       "      <th>valor</th>\n",
       "      <th>id_oferta</th>\n",
       "      <th>recompensa</th>\n",
       "      <th>tipo_evento</th>\n",
       "    </tr>\n",
       "  </thead>\n",
       "  <tbody>\n",
       "    <tr>\n",
       "      <th>0</th>\n",
       "      <td>1</td>\n",
       "      <td>78afa995795e4d85b5d9ceeca43f5fef</td>\n",
       "      <td>0</td>\n",
       "      <td>NaN</td>\n",
       "      <td>9b98b8c7a33c4b65b9aebfe6a799e6d9</td>\n",
       "      <td>NaN</td>\n",
       "      <td>oferta recebida</td>\n",
       "    </tr>\n",
       "    <tr>\n",
       "      <th>1</th>\n",
       "      <td>2</td>\n",
       "      <td>a03223e636434f42ac4c3df47e8bac43</td>\n",
       "      <td>0</td>\n",
       "      <td>NaN</td>\n",
       "      <td>0b1e1539f2cc45b7b9fa7c272da2e1d7</td>\n",
       "      <td>NaN</td>\n",
       "      <td>oferta recebida</td>\n",
       "    </tr>\n",
       "    <tr>\n",
       "      <th>2</th>\n",
       "      <td>3</td>\n",
       "      <td>e2127556f4f64592b11af22de27a7932</td>\n",
       "      <td>0</td>\n",
       "      <td>NaN</td>\n",
       "      <td>2906b810c7d4411798c6938adc9daaa5</td>\n",
       "      <td>NaN</td>\n",
       "      <td>oferta recebida</td>\n",
       "    </tr>\n",
       "    <tr>\n",
       "      <th>3</th>\n",
       "      <td>4</td>\n",
       "      <td>8ec6ce2a7e7949b1bf142def7d0e0586</td>\n",
       "      <td>0</td>\n",
       "      <td>NaN</td>\n",
       "      <td>fafdcd668e3743c1bb461111dcafc2a4</td>\n",
       "      <td>NaN</td>\n",
       "      <td>oferta recebida</td>\n",
       "    </tr>\n",
       "    <tr>\n",
       "      <th>4</th>\n",
       "      <td>5</td>\n",
       "      <td>68617ca6246f4fbc85e91a2a49552598</td>\n",
       "      <td>0</td>\n",
       "      <td>NaN</td>\n",
       "      <td>4d5c57ea9a6940dd891ad53e9dbe8da0</td>\n",
       "      <td>NaN</td>\n",
       "      <td>oferta recebida</td>\n",
       "    </tr>\n",
       "    <tr>\n",
       "      <th>...</th>\n",
       "      <td>...</td>\n",
       "      <td>...</td>\n",
       "      <td>...</td>\n",
       "      <td>...</td>\n",
       "      <td>...</td>\n",
       "      <td>...</td>\n",
       "      <td>...</td>\n",
       "    </tr>\n",
       "    <tr>\n",
       "      <th>306529</th>\n",
       "      <td>306530</td>\n",
       "      <td>b3a1272bc9904337b331bf348c3e8c17</td>\n",
       "      <td>714</td>\n",
       "      <td>1.59</td>\n",
       "      <td>NaN</td>\n",
       "      <td>NaN</td>\n",
       "      <td>transacao</td>\n",
       "    </tr>\n",
       "    <tr>\n",
       "      <th>306530</th>\n",
       "      <td>306531</td>\n",
       "      <td>68213b08d99a4ae1b0dcb72aebd9aa35</td>\n",
       "      <td>714</td>\n",
       "      <td>9.53</td>\n",
       "      <td>NaN</td>\n",
       "      <td>NaN</td>\n",
       "      <td>transacao</td>\n",
       "    </tr>\n",
       "    <tr>\n",
       "      <th>306531</th>\n",
       "      <td>306532</td>\n",
       "      <td>a00058cf10334a308c68e7631c529907</td>\n",
       "      <td>714</td>\n",
       "      <td>3.61</td>\n",
       "      <td>NaN</td>\n",
       "      <td>NaN</td>\n",
       "      <td>transacao</td>\n",
       "    </tr>\n",
       "    <tr>\n",
       "      <th>306532</th>\n",
       "      <td>306533</td>\n",
       "      <td>76ddbd6576844afe811f1a3c0fbb5bec</td>\n",
       "      <td>714</td>\n",
       "      <td>3.53</td>\n",
       "      <td>NaN</td>\n",
       "      <td>NaN</td>\n",
       "      <td>transacao</td>\n",
       "    </tr>\n",
       "    <tr>\n",
       "      <th>306533</th>\n",
       "      <td>306534</td>\n",
       "      <td>c02b10e8752c4d8e9b73f918558531f7</td>\n",
       "      <td>714</td>\n",
       "      <td>4.05</td>\n",
       "      <td>NaN</td>\n",
       "      <td>NaN</td>\n",
       "      <td>transacao</td>\n",
       "    </tr>\n",
       "  </tbody>\n",
       "</table>\n",
       "<p>306534 rows × 7 columns</p>\n",
       "</div>"
      ],
      "text/plain": [
       "        Unnamed: 0                           cliente  tempo_decorrido  valor  \\\n",
       "0                1  78afa995795e4d85b5d9ceeca43f5fef                0    NaN   \n",
       "1                2  a03223e636434f42ac4c3df47e8bac43                0    NaN   \n",
       "2                3  e2127556f4f64592b11af22de27a7932                0    NaN   \n",
       "3                4  8ec6ce2a7e7949b1bf142def7d0e0586                0    NaN   \n",
       "4                5  68617ca6246f4fbc85e91a2a49552598                0    NaN   \n",
       "...            ...                               ...              ...    ...   \n",
       "306529      306530  b3a1272bc9904337b331bf348c3e8c17              714   1.59   \n",
       "306530      306531  68213b08d99a4ae1b0dcb72aebd9aa35              714   9.53   \n",
       "306531      306532  a00058cf10334a308c68e7631c529907              714   3.61   \n",
       "306532      306533  76ddbd6576844afe811f1a3c0fbb5bec              714   3.53   \n",
       "306533      306534  c02b10e8752c4d8e9b73f918558531f7              714   4.05   \n",
       "\n",
       "                               id_oferta  recompensa      tipo_evento  \n",
       "0       9b98b8c7a33c4b65b9aebfe6a799e6d9         NaN  oferta recebida  \n",
       "1       0b1e1539f2cc45b7b9fa7c272da2e1d7         NaN  oferta recebida  \n",
       "2       2906b810c7d4411798c6938adc9daaa5         NaN  oferta recebida  \n",
       "3       fafdcd668e3743c1bb461111dcafc2a4         NaN  oferta recebida  \n",
       "4       4d5c57ea9a6940dd891ad53e9dbe8da0         NaN  oferta recebida  \n",
       "...                                  ...         ...              ...  \n",
       "306529                               NaN         NaN        transacao  \n",
       "306530                               NaN         NaN        transacao  \n",
       "306531                               NaN         NaN        transacao  \n",
       "306532                               NaN         NaN        transacao  \n",
       "306533                               NaN         NaN        transacao  \n",
       "\n",
       "[306534 rows x 7 columns]"
      ]
     },
     "execution_count": 514,
     "metadata": {},
     "output_type": "execute_result"
    }
   ],
   "source": [
    "eventos"
   ]
  },
  {
   "cell_type": "code",
   "execution_count": 515,
   "metadata": {},
   "outputs": [
    {
     "data": {
      "text/plain": [
       "(306534, 7)"
      ]
     },
     "execution_count": 515,
     "metadata": {},
     "output_type": "execute_result"
    }
   ],
   "source": [
    "eventos.shape"
   ]
  },
  {
   "cell_type": "code",
   "execution_count": 516,
   "metadata": {},
   "outputs": [
    {
     "data": {
      "text/plain": [
       "cliente  tempo_decorrido  valor  id_oferta  recompensa  tipo_evento\n",
       "False    False            False  True       True        False          138953\n",
       "                          True   False      True        False          134002\n",
       "                                            False       False           33579\n",
       "dtype: int64"
      ]
     },
     "execution_count": 516,
     "metadata": {},
     "output_type": "execute_result"
    }
   ],
   "source": [
    "eventos = eventos.drop(columns='Unnamed: 0')\n",
    "eventos.isna().value_counts()"
   ]
  },
  {
   "attachments": {},
   "cell_type": "markdown",
   "metadata": {},
   "source": [
    "Retirando os registros dos IDs que continham problemas de falta de informação já no DF de clientes"
   ]
  },
  {
   "cell_type": "code",
   "execution_count": 517,
   "metadata": {},
   "outputs": [
    {
     "data": {
      "text/plain": [
       "0        68be06ca386d4c31939f3a4f0e3dd783\n",
       "2        38fe809add3b4fcf9315a9694bb96ff5\n",
       "4        a03223e636434f42ac4c3df47e8bac43\n",
       "6        8ec6ce2a7e7949b1bf142def7d0e0586\n",
       "7        68617ca6246f4fbc85e91a2a49552598\n",
       "                       ...               \n",
       "16980    5c686d09ca4d475a8f750f2ba07e0440\n",
       "16982    d9ca82f550ac4ee58b6299cf1e5c824a\n",
       "16989    ca45ee1883624304bac1e4c8a114f045\n",
       "16991    a9a20fa8b5504360beb4e7c8712f8306\n",
       "16994    c02b10e8752c4d8e9b73f918558531f7\n",
       "Name: id, Length: 2175, dtype: object"
      ]
     },
     "execution_count": 517,
     "metadata": {},
     "output_type": "execute_result"
    }
   ],
   "source": [
    "# Série contendo todos os registros com erros obtida na seção 2.2 \n",
    "ids_removidos"
   ]
  },
  {
   "cell_type": "code",
   "execution_count": 518,
   "metadata": {},
   "outputs": [
    {
     "data": {
      "text/plain": [
       "cliente  tempo_decorrido  valor  id_oferta  recompensa  tipo_evento\n",
       "False    False            False  True       True        False          123957\n",
       "                          True   False      True        False          116361\n",
       "                                            False       False           32444\n",
       "dtype: int64"
      ]
     },
     "execution_count": 518,
     "metadata": {},
     "output_type": "execute_result"
    }
   ],
   "source": [
    "# Indexar o DF usando  isin() para remover as linhas com valores na série 'ids_removidos'\n",
    "eventos = eventos[~eventos['cliente'].isin(ids_removidos)]\n",
    "eventos.isna().value_counts()"
   ]
  },
  {
   "attachments": {},
   "cell_type": "markdown",
   "metadata": {},
   "source": [
    "É possível notar que os IDs que foram excluídos realmente se tratavam de erros, tendo em vista que nenhum registro foi apagado em meio a todos presentes na série 'ids_removidos'. "
   ]
  },
  {
   "cell_type": "code",
   "execution_count": 519,
   "metadata": {},
   "outputs": [
    {
     "data": {
      "text/plain": [
       "cliente             object\n",
       "tempo_decorrido      int64\n",
       "valor              float64\n",
       "id_oferta           object\n",
       "recompensa         float64\n",
       "tipo_evento         object\n",
       "dtype: object"
      ]
     },
     "execution_count": 519,
     "metadata": {},
     "output_type": "execute_result"
    }
   ],
   "source": [
    "eventos.dtypes"
   ]
  },
  {
   "cell_type": "code",
   "execution_count": 520,
   "metadata": {},
   "outputs": [
    {
     "data": {
      "text/html": [
       "<div>\n",
       "<style scoped>\n",
       "    .dataframe tbody tr th:only-of-type {\n",
       "        vertical-align: middle;\n",
       "    }\n",
       "\n",
       "    .dataframe tbody tr th {\n",
       "        vertical-align: top;\n",
       "    }\n",
       "\n",
       "    .dataframe thead th {\n",
       "        text-align: right;\n",
       "    }\n",
       "</style>\n",
       "<table border=\"1\" class=\"dataframe\">\n",
       "  <thead>\n",
       "    <tr style=\"text-align: right;\">\n",
       "      <th></th>\n",
       "      <th>tempo_decorrido</th>\n",
       "      <th>valor</th>\n",
       "      <th>recompensa</th>\n",
       "    </tr>\n",
       "  </thead>\n",
       "  <tbody>\n",
       "    <tr>\n",
       "      <th>count</th>\n",
       "      <td>272762.000000</td>\n",
       "      <td>123957.000000</td>\n",
       "      <td>32444.000000</td>\n",
       "    </tr>\n",
       "    <tr>\n",
       "      <th>mean</th>\n",
       "      <td>366.707694</td>\n",
       "      <td>13.996325</td>\n",
       "      <td>4.948249</td>\n",
       "    </tr>\n",
       "    <tr>\n",
       "      <th>std</th>\n",
       "      <td>200.359087</td>\n",
       "      <td>31.749420</td>\n",
       "      <td>2.905376</td>\n",
       "    </tr>\n",
       "    <tr>\n",
       "      <th>min</th>\n",
       "      <td>0.000000</td>\n",
       "      <td>0.050000</td>\n",
       "      <td>2.000000</td>\n",
       "    </tr>\n",
       "    <tr>\n",
       "      <th>25%</th>\n",
       "      <td>186.000000</td>\n",
       "      <td>3.660000</td>\n",
       "      <td>2.000000</td>\n",
       "    </tr>\n",
       "    <tr>\n",
       "      <th>50%</th>\n",
       "      <td>408.000000</td>\n",
       "      <td>10.800000</td>\n",
       "      <td>5.000000</td>\n",
       "    </tr>\n",
       "    <tr>\n",
       "      <th>75%</th>\n",
       "      <td>528.000000</td>\n",
       "      <td>19.130000</td>\n",
       "      <td>5.000000</td>\n",
       "    </tr>\n",
       "    <tr>\n",
       "      <th>max</th>\n",
       "      <td>714.000000</td>\n",
       "      <td>1062.280000</td>\n",
       "      <td>10.000000</td>\n",
       "    </tr>\n",
       "  </tbody>\n",
       "</table>\n",
       "</div>"
      ],
      "text/plain": [
       "       tempo_decorrido          valor    recompensa\n",
       "count    272762.000000  123957.000000  32444.000000\n",
       "mean        366.707694      13.996325      4.948249\n",
       "std         200.359087      31.749420      2.905376\n",
       "min           0.000000       0.050000      2.000000\n",
       "25%         186.000000       3.660000      2.000000\n",
       "50%         408.000000      10.800000      5.000000\n",
       "75%         528.000000      19.130000      5.000000\n",
       "max         714.000000    1062.280000     10.000000"
      ]
     },
     "execution_count": 520,
     "metadata": {},
     "output_type": "execute_result"
    }
   ],
   "source": [
    "eventos.describe()"
   ]
  },
  {
   "attachments": {},
   "cell_type": "markdown",
   "metadata": {},
   "source": [
    "As três variáveis numéricas parecem estar com valores coerentes, considerando o projeto"
   ]
  },
  {
   "cell_type": "code",
   "execution_count": 521,
   "metadata": {},
   "outputs": [
    {
     "data": {
      "text/html": [
       "<div>\n",
       "<style scoped>\n",
       "    .dataframe tbody tr th:only-of-type {\n",
       "        vertical-align: middle;\n",
       "    }\n",
       "\n",
       "    .dataframe tbody tr th {\n",
       "        vertical-align: top;\n",
       "    }\n",
       "\n",
       "    .dataframe thead th {\n",
       "        text-align: right;\n",
       "    }\n",
       "</style>\n",
       "<table border=\"1\" class=\"dataframe\">\n",
       "  <thead>\n",
       "    <tr style=\"text-align: right;\">\n",
       "      <th></th>\n",
       "      <th>cliente</th>\n",
       "      <th>id_oferta</th>\n",
       "      <th>tipo_evento</th>\n",
       "    </tr>\n",
       "  </thead>\n",
       "  <tbody>\n",
       "    <tr>\n",
       "      <th>count</th>\n",
       "      <td>272762</td>\n",
       "      <td>148805</td>\n",
       "      <td>272762</td>\n",
       "    </tr>\n",
       "    <tr>\n",
       "      <th>unique</th>\n",
       "      <td>14825</td>\n",
       "      <td>10</td>\n",
       "      <td>4</td>\n",
       "    </tr>\n",
       "    <tr>\n",
       "      <th>top</th>\n",
       "      <td>94de646f7b6041228ca7dec82adb97d2</td>\n",
       "      <td>fafdcd668e3743c1bb461111dcafc2a4</td>\n",
       "      <td>transacao</td>\n",
       "    </tr>\n",
       "    <tr>\n",
       "      <th>freq</th>\n",
       "      <td>51</td>\n",
       "      <td>18062</td>\n",
       "      <td>123957</td>\n",
       "    </tr>\n",
       "  </tbody>\n",
       "</table>\n",
       "</div>"
      ],
      "text/plain": [
       "                                 cliente                         id_oferta  \\\n",
       "count                             272762                            148805   \n",
       "unique                             14825                                10   \n",
       "top     94de646f7b6041228ca7dec82adb97d2  fafdcd668e3743c1bb461111dcafc2a4   \n",
       "freq                                  51                             18062   \n",
       "\n",
       "       tipo_evento  \n",
       "count       272762  \n",
       "unique           4  \n",
       "top      transacao  \n",
       "freq        123957  "
      ]
     },
     "execution_count": 521,
     "metadata": {},
     "output_type": "execute_result"
    }
   ],
   "source": [
    "# Descrição de variáveis não numéricas\n",
    "eventos.describe(include = ['object'])"
   ]
  },
  {
   "attachments": {},
   "cell_type": "markdown",
   "metadata": {},
   "source": [
    "Há exatamente o mesmo número de registros não nulos de clientes no DF eventos, bem como de IDs no DF clientes (14825 números únicos). O que indica que as suposições anteriores de que os registros problemáricos não passavam de erros era verdadeira."
   ]
  },
  {
   "cell_type": "code",
   "execution_count": 522,
   "metadata": {},
   "outputs": [
    {
     "data": {
      "text/plain": [
       "fafdcd668e3743c1bb461111dcafc2a4    18062\n",
       "2298d6c36e964ae4a3e7e9706d1fb8c2    17920\n",
       "f19421c1d4aa40978ebb69ca19b0e20d    16989\n",
       "ae264e3637204a6fb9bb56bc8210ddfd    16241\n",
       "4d5c57ea9a6940dd891ad53e9dbe8da0    16232\n",
       "9b98b8c7a33c4b65b9aebfe6a799e6d9    14372\n",
       "2906b810c7d4411798c6938adc9daaa5    14002\n",
       "5a8bc65990b245e5a138643cd4eb9837    12516\n",
       "0b1e1539f2cc45b7b9fa7c272da2e1d7    12327\n",
       "3f207df678b143eea3cee63160fa8bed    10144\n",
       "Name: id_oferta, dtype: int64"
      ]
     },
     "execution_count": 522,
     "metadata": {},
     "output_type": "execute_result"
    }
   ],
   "source": [
    "# Visualização dos 10 IDs de oferta existentes na base de dados\n",
    "eventos['id_oferta'].value_counts()"
   ]
  },
  {
   "cell_type": "code",
   "execution_count": 523,
   "metadata": {},
   "outputs": [
    {
     "data": {
      "text/plain": [
       "transacao             123957\n",
       "oferta recebida        66501\n",
       "oferta visualizada     49860\n",
       "oferta concluída       32444\n",
       "Name: tipo_evento, dtype: int64"
      ]
     },
     "execution_count": 523,
     "metadata": {},
     "output_type": "execute_result"
    }
   ],
   "source": [
    "# Contagem dos tipos de evento\n",
    "eventos['tipo_evento'].value_counts()"
   ]
  },
  {
   "attachments": {},
   "cell_type": "markdown",
   "metadata": {},
   "source": [
    "Depreende-se que os valores correspondem exatamente às secções obtidas ao contarem-se as quantidades de na tabela. O que é um forte indicativo de que as categorias de oferta estão correlacionadas com colunas NaN ou não. Segue a checagem da conjectura:"
   ]
  },
  {
   "cell_type": "code",
   "execution_count": 524,
   "metadata": {},
   "outputs": [
    {
     "data": {
      "text/plain": [
       "cliente  tempo_decorrido  valor  id_oferta  recompensa  tipo_evento\n",
       "False    False            False  True       True        False          123957\n",
       "dtype: int64"
      ]
     },
     "execution_count": 524,
     "metadata": {},
     "output_type": "execute_result"
    }
   ],
   "source": [
    "# NaNs em evento 'transacao'\n",
    "eventos[eventos['tipo_evento'] == 'transacao'].isna().value_counts()"
   ]
  },
  {
   "attachments": {},
   "cell_type": "markdown",
   "metadata": {},
   "source": [
    "Como o esperado, em todos os casos que há 'id_oferta' e 'recompensa' iguais a NaN, o 'tipo_evento' é 'transacao'."
   ]
  },
  {
   "cell_type": "code",
   "execution_count": 525,
   "metadata": {},
   "outputs": [
    {
     "data": {
      "text/plain": [
       "cliente  tempo_decorrido  valor  id_oferta  recompensa  tipo_evento\n",
       "False    False            True   False      False       False          32444\n",
       "dtype: int64"
      ]
     },
     "execution_count": 525,
     "metadata": {},
     "output_type": "execute_result"
    }
   ],
   "source": [
    "# NaNs em evento 'oferta concluída'\n",
    "eventos[eventos['tipo_evento'] == 'oferta concluída'].isna().value_counts()"
   ]
  },
  {
   "attachments": {},
   "cell_type": "markdown",
   "metadata": {},
   "source": [
    "Seguindo a lógica da célula imediatamente anterior, todos os casos em que o único NaN do registro ocorre na coluna 'valor', o evento 'oferta concluída' é o valor da coluna 'tipo_evento'.\n",
    "\n",
    "Como consequência, em todos os demais casos ocorre NaN nas colunas de 'valor' e 'recompensa'. São todos registros que  possuem como valor na coluna de 'tipo_evento' como 'oferta visualizada' ou 'oferta recebida'."
   ]
  },
  {
   "attachments": {},
   "cell_type": "markdown",
   "metadata": {},
   "source": [
    "## 2. Análise Exploratória de Dados (Clientes)"
   ]
  },
  {
   "cell_type": "code",
   "execution_count": 526,
   "metadata": {},
   "outputs": [],
   "source": [
    "# Estilização das visualizações\n",
    "tema = sns.set_theme(style='darkgrid')\n",
    "cores = sns.color_palette(\"husl\", 8)"
   ]
  },
  {
   "cell_type": "code",
   "execution_count": 527,
   "metadata": {},
   "outputs": [
    {
     "data": {
      "text/plain": [
       "Index(['genero', 'idade', 'id', 'membro_desde', 'renda_anual'], dtype='object')"
      ]
     },
     "execution_count": 527,
     "metadata": {},
     "output_type": "execute_result"
    }
   ],
   "source": [
    "# Observação das colunas presentes\n",
    "clientes.columns"
   ]
  },
  {
   "cell_type": "code",
   "execution_count": 528,
   "metadata": {},
   "outputs": [
    {
     "data": {
      "image/png": "[encoded data removed]",
      "text/plain": [
       "<Figure size 432x432 with 1 Axes>"
      ]
     },
     "metadata": {},
     "output_type": "display_data"
    }
   ],
   "source": [
    "# Gráfico de pizza sobre gênero\n",
    "\n",
    "clientes['genero'].value_counts().plot\\\n",
    "  .pie(autopct = '%1.1f%%', explode=(0.01, 0.01, 0.01), figsize =(6, 6),colors=cores)\\\n",
    "  .set_title('Gênero em porcentagem').set_fontsize('20')"
   ]
  },
  {
   "cell_type": "code",
   "execution_count": 529,
   "metadata": {},
   "outputs": [],
   "source": [
    "# Função genérica para boxplot\n",
    "\n",
    "def boxplot(coluna, max_y, titulo, data):\n",
    "  f, ax = plt.subplots(figsize=(8, 6))\n",
    "  fig = sns.boxplot(y=coluna, data=data)\n",
    "  fig.set_title(titulo).set_fontsize('16')\n",
    "  fig.axis(ymin = 0, ymax = max_y)"
   ]
  },
  {
   "cell_type": "code",
   "execution_count": 530,
   "metadata": {},
   "outputs": [],
   "source": [
    "# Função genérica para violinplot\n",
    "\n",
    "def violinplot(coluna, max_y, titulo, data):\n",
    "  f, ax = plt.subplots(figsize=(8, 6))\n",
    "  fig = sns.violinplot(y=coluna, data=data)\n",
    "  fig.set_title(titulo).set_fontsize('16')\n",
    "  fig.axis(ymin = 0, ymax = max_y)"
   ]
  },
  {
   "cell_type": "code",
   "execution_count": 531,
   "metadata": {},
   "outputs": [],
   "source": [
    "# Separar as colunas por tipos para facilitar a análise\n",
    "\n",
    "categoricas_clientes = clientes.dtypes == 'object'\n",
    "categoricas_clientes = list(categoricas_clientes[categoricas_clientes].index)\n",
    "categoricas_clientes.remove('id') # Coluna não importante para análise\n",
    "\n",
    "numericas_clientes = clientes.dtypes != 'object'\n",
    "numericas_clientes = list(numericas_clientes[numericas_clientes].index)"
   ]
  },
  {
   "cell_type": "code",
   "execution_count": 532,
   "metadata": {},
   "outputs": [
    {
     "data": {
      "text/plain": [
       "['idade', 'membro_desde', 'renda_anual']"
      ]
     },
     "execution_count": 532,
     "metadata": {},
     "output_type": "execute_result"
    }
   ],
   "source": [
    "numericas_clientes"
   ]
  },
  {
   "cell_type": "code",
   "execution_count": 533,
   "metadata": {},
   "outputs": [
    {
     "data": {
      "image/png": "[encoded data removed]",
      "text/plain": [
       "<Figure size 576x432 with 1 Axes>"
      ]
     },
     "metadata": {},
     "output_type": "display_data"
    }
   ],
   "source": [
    "boxplot(coluna=numericas_clientes[0],\n",
    "        data=clientes,\n",
    "        max_y=1.1*max(clientes[numericas_clientes[0]]),\n",
    "        titulo=numericas_clientes[0])"
   ]
  },
  {
   "cell_type": "code",
   "execution_count": 534,
   "metadata": {},
   "outputs": [
    {
     "data": {
      "image/png": "[encoded data removed]",
      "text/plain": [
       "<Figure size 576x432 with 1 Axes>"
      ]
     },
     "metadata": {},
     "output_type": "display_data"
    }
   ],
   "source": [
    "violinplot(coluna=numericas_clientes[0],\n",
    "        data=clientes,\n",
    "        max_y=1.1*max(clientes[numericas_clientes[0]]),\n",
    "        titulo=numericas_clientes[0])"
   ]
  },
  {
   "cell_type": "code",
   "execution_count": 535,
   "metadata": {},
   "outputs": [
    {
     "data": {
      "image/png": "[encoded data removed]",
      "text/plain": [
       "<Figure size 576x432 with 1 Axes>"
      ]
     },
     "metadata": {},
     "output_type": "display_data"
    }
   ],
   "source": [
    "boxplot(coluna=numericas_clientes[2],\n",
    "        data=clientes,\n",
    "        max_y=200000,\n",
    "        titulo=numericas_clientes[2])"
   ]
  },
  {
   "cell_type": "code",
   "execution_count": 536,
   "metadata": {},
   "outputs": [
    {
     "data": {
      "image/png": "[encoded data removed]",
      "text/plain": [
       "<Figure size 576x432 with 1 Axes>"
      ]
     },
     "metadata": {},
     "output_type": "display_data"
    }
   ],
   "source": [
    "violinplot(coluna=numericas_clientes[2],\n",
    "        data=clientes,\n",
    "        max_y=500000,\n",
    "        titulo=numericas_clientes[2])"
   ]
  },
  {
   "attachments": {},
   "cell_type": "markdown",
   "metadata": {},
   "source": [
    "## 3. Agrupamento ou clusterização"
   ]
  },
  {
   "attachments": {},
   "cell_type": "markdown",
   "metadata": {},
   "source": [
    "A estratégia para o presente tópico foi baseada principalmente em:\n",
    "- Curso de clusterização com python da Alura: https://www.alura.com.br/curso-online-cluster-analysis\n",
    "- Livro de ML: GERON, A. Mãos à Obra Aprendizado de Máquina com Scikit-learn & TensorFlow: Conceitos. Ferramentas e Técnicas Para a Construção de Sistemas Inteligentes, p. 576, 2019\n",
    "- Página web: https://towardsdatascience.com/customer-segmentation-using-k-means-clustering-d33964f238c3"
   ]
  },
  {
   "attachments": {},
   "cell_type": "markdown",
   "metadata": {},
   "source": [
    "### 3.1 Preparação dos dados"
   ]
  },
  {
   "attachments": {},
   "cell_type": "markdown",
   "metadata": {},
   "source": [
    "Para agrupar os clientes é preciso que o DF esteja segundo o padrão requerido pelo algoritmo"
   ]
  },
  {
   "cell_type": "code",
   "execution_count": 537,
   "metadata": {},
   "outputs": [
    {
     "data": {
      "text/html": [
       "<div>\n",
       "<style scoped>\n",
       "    .dataframe tbody tr th:only-of-type {\n",
       "        vertical-align: middle;\n",
       "    }\n",
       "\n",
       "    .dataframe tbody tr th {\n",
       "        vertical-align: top;\n",
       "    }\n",
       "\n",
       "    .dataframe thead th {\n",
       "        text-align: right;\n",
       "    }\n",
       "</style>\n",
       "<table border=\"1\" class=\"dataframe\">\n",
       "  <thead>\n",
       "    <tr style=\"text-align: right;\">\n",
       "      <th></th>\n",
       "      <th>genero</th>\n",
       "      <th>idade</th>\n",
       "      <th>id</th>\n",
       "      <th>membro_desde</th>\n",
       "      <th>renda_anual</th>\n",
       "    </tr>\n",
       "  </thead>\n",
       "  <tbody>\n",
       "    <tr>\n",
       "      <th>1</th>\n",
       "      <td>F</td>\n",
       "      <td>55</td>\n",
       "      <td>0610b486422d4921ae7d2bf64640c50b</td>\n",
       "      <td>2017-07-15</td>\n",
       "      <td>112000</td>\n",
       "    </tr>\n",
       "    <tr>\n",
       "      <th>3</th>\n",
       "      <td>F</td>\n",
       "      <td>75</td>\n",
       "      <td>78afa995795e4d85b5d9ceeca43f5fef</td>\n",
       "      <td>2017-05-09</td>\n",
       "      <td>10000000</td>\n",
       "    </tr>\n",
       "    <tr>\n",
       "      <th>5</th>\n",
       "      <td>M</td>\n",
       "      <td>68</td>\n",
       "      <td>e2127556f4f64592b11af22de27a7932</td>\n",
       "      <td>2018-04-26</td>\n",
       "      <td>70000</td>\n",
       "    </tr>\n",
       "    <tr>\n",
       "      <th>8</th>\n",
       "      <td>M</td>\n",
       "      <td>65</td>\n",
       "      <td>389bc3fa690240e798340f5a15918d5c</td>\n",
       "      <td>2018-02-09</td>\n",
       "      <td>53000</td>\n",
       "    </tr>\n",
       "    <tr>\n",
       "      <th>12</th>\n",
       "      <td>M</td>\n",
       "      <td>58</td>\n",
       "      <td>2eeac8d8feae4a8cad5a6af0499a211d</td>\n",
       "      <td>2017-11-11</td>\n",
       "      <td>51000</td>\n",
       "    </tr>\n",
       "    <tr>\n",
       "      <th>...</th>\n",
       "      <td>...</td>\n",
       "      <td>...</td>\n",
       "      <td>...</td>\n",
       "      <td>...</td>\n",
       "      <td>...</td>\n",
       "    </tr>\n",
       "    <tr>\n",
       "      <th>16995</th>\n",
       "      <td>F</td>\n",
       "      <td>45</td>\n",
       "      <td>6d5f3a774f3d4714ab0c092238f3a1d7</td>\n",
       "      <td>2018-06-04</td>\n",
       "      <td>54000</td>\n",
       "    </tr>\n",
       "    <tr>\n",
       "      <th>16996</th>\n",
       "      <td>M</td>\n",
       "      <td>61</td>\n",
       "      <td>2cb4f97358b841b9a9773a7aa05a9d77</td>\n",
       "      <td>2018-07-13</td>\n",
       "      <td>72000</td>\n",
       "    </tr>\n",
       "    <tr>\n",
       "      <th>16997</th>\n",
       "      <td>M</td>\n",
       "      <td>49</td>\n",
       "      <td>01d26f638c274aa0b965d24cefe3183f</td>\n",
       "      <td>2017-01-26</td>\n",
       "      <td>73000</td>\n",
       "    </tr>\n",
       "    <tr>\n",
       "      <th>16998</th>\n",
       "      <td>F</td>\n",
       "      <td>83</td>\n",
       "      <td>9dc1421481194dcd9400aec7c9ae6366</td>\n",
       "      <td>2016-03-07</td>\n",
       "      <td>50000</td>\n",
       "    </tr>\n",
       "    <tr>\n",
       "      <th>16999</th>\n",
       "      <td>F</td>\n",
       "      <td>62</td>\n",
       "      <td>e4052622e5ba45a8b96b59aba68cf068</td>\n",
       "      <td>2017-07-22</td>\n",
       "      <td>82000</td>\n",
       "    </tr>\n",
       "  </tbody>\n",
       "</table>\n",
       "<p>14825 rows × 5 columns</p>\n",
       "</div>"
      ],
      "text/plain": [
       "      genero  idade                                id membro_desde  \\\n",
       "1          F     55  0610b486422d4921ae7d2bf64640c50b   2017-07-15   \n",
       "3          F     75  78afa995795e4d85b5d9ceeca43f5fef   2017-05-09   \n",
       "5          M     68  e2127556f4f64592b11af22de27a7932   2018-04-26   \n",
       "8          M     65  389bc3fa690240e798340f5a15918d5c   2018-02-09   \n",
       "12         M     58  2eeac8d8feae4a8cad5a6af0499a211d   2017-11-11   \n",
       "...      ...    ...                               ...          ...   \n",
       "16995      F     45  6d5f3a774f3d4714ab0c092238f3a1d7   2018-06-04   \n",
       "16996      M     61  2cb4f97358b841b9a9773a7aa05a9d77   2018-07-13   \n",
       "16997      M     49  01d26f638c274aa0b965d24cefe3183f   2017-01-26   \n",
       "16998      F     83  9dc1421481194dcd9400aec7c9ae6366   2016-03-07   \n",
       "16999      F     62  e4052622e5ba45a8b96b59aba68cf068   2017-07-22   \n",
       "\n",
       "       renda_anual  \n",
       "1           112000  \n",
       "3         10000000  \n",
       "5            70000  \n",
       "8            53000  \n",
       "12           51000  \n",
       "...            ...  \n",
       "16995        54000  \n",
       "16996        72000  \n",
       "16997        73000  \n",
       "16998        50000  \n",
       "16999        82000  \n",
       "\n",
       "[14825 rows x 5 columns]"
      ]
     },
     "execution_count": 537,
     "metadata": {},
     "output_type": "execute_result"
    }
   ],
   "source": [
    "clientes"
   ]
  },
  {
   "cell_type": "code",
   "execution_count": 538,
   "metadata": {},
   "outputs": [
    {
     "data": {
      "text/plain": [
       "65200.77351065273"
      ]
     },
     "execution_count": 538,
     "metadata": {},
     "output_type": "execute_result"
    }
   ],
   "source": [
    "# Substituindo os outliers de 'renda_anual' pelo valor médio da coluna sem eles\n",
    "\n",
    "renda_media = clientes[clientes['renda_anual'] != 10000000]['renda_anual'].mean()\n",
    "renda_media"
   ]
  },
  {
   "cell_type": "code",
   "execution_count": 539,
   "metadata": {},
   "outputs": [
    {
     "data": {
      "text/html": [
       "<div>\n",
       "<style scoped>\n",
       "    .dataframe tbody tr th:only-of-type {\n",
       "        vertical-align: middle;\n",
       "    }\n",
       "\n",
       "    .dataframe tbody tr th {\n",
       "        vertical-align: top;\n",
       "    }\n",
       "\n",
       "    .dataframe thead th {\n",
       "        text-align: right;\n",
       "    }\n",
       "</style>\n",
       "<table border=\"1\" class=\"dataframe\">\n",
       "  <thead>\n",
       "    <tr style=\"text-align: right;\">\n",
       "      <th></th>\n",
       "      <th>genero</th>\n",
       "      <th>idade</th>\n",
       "      <th>id</th>\n",
       "      <th>membro_desde</th>\n",
       "      <th>renda_anual</th>\n",
       "    </tr>\n",
       "  </thead>\n",
       "  <tbody>\n",
       "    <tr>\n",
       "      <th>3</th>\n",
       "      <td>F</td>\n",
       "      <td>75</td>\n",
       "      <td>78afa995795e4d85b5d9ceeca43f5fef</td>\n",
       "      <td>2017-05-09</td>\n",
       "      <td>65200</td>\n",
       "    </tr>\n",
       "    <tr>\n",
       "      <th>21</th>\n",
       "      <td>M</td>\n",
       "      <td>64</td>\n",
       "      <td>4b0da7e80e5945209a1fdddfe813dbe0</td>\n",
       "      <td>2017-09-09</td>\n",
       "      <td>65200</td>\n",
       "    </tr>\n",
       "    <tr>\n",
       "      <th>390</th>\n",
       "      <td>F</td>\n",
       "      <td>41</td>\n",
       "      <td>5084c3bf96464d63bc54f298ce45aef0</td>\n",
       "      <td>2016-04-14</td>\n",
       "      <td>65200</td>\n",
       "    </tr>\n",
       "    <tr>\n",
       "      <th>425</th>\n",
       "      <td>M</td>\n",
       "      <td>51</td>\n",
       "      <td>227f2d69e46a4899b70d48182822cff6</td>\n",
       "      <td>2018-05-12</td>\n",
       "      <td>65200</td>\n",
       "    </tr>\n",
       "    <tr>\n",
       "      <th>526</th>\n",
       "      <td>F</td>\n",
       "      <td>57</td>\n",
       "      <td>f92d608f58bf40178cc3c9568750c559</td>\n",
       "      <td>2018-01-17</td>\n",
       "      <td>65200</td>\n",
       "    </tr>\n",
       "    <tr>\n",
       "      <th>...</th>\n",
       "      <td>...</td>\n",
       "      <td>...</td>\n",
       "      <td>...</td>\n",
       "      <td>...</td>\n",
       "      <td>...</td>\n",
       "    </tr>\n",
       "    <tr>\n",
       "      <th>15605</th>\n",
       "      <td>M</td>\n",
       "      <td>41</td>\n",
       "      <td>269dce9ba8004504ae3a587a7df9db13</td>\n",
       "      <td>2015-10-24</td>\n",
       "      <td>65200</td>\n",
       "    </tr>\n",
       "    <tr>\n",
       "      <th>15943</th>\n",
       "      <td>M</td>\n",
       "      <td>65</td>\n",
       "      <td>6b1c9e0cc8a54186a4129131a1726738</td>\n",
       "      <td>2018-01-05</td>\n",
       "      <td>65200</td>\n",
       "    </tr>\n",
       "    <tr>\n",
       "      <th>16158</th>\n",
       "      <td>M</td>\n",
       "      <td>63</td>\n",
       "      <td>156e898fd57b431683d6e72e4ab6eb9c</td>\n",
       "      <td>2017-10-18</td>\n",
       "      <td>65200</td>\n",
       "    </tr>\n",
       "    <tr>\n",
       "      <th>16289</th>\n",
       "      <td>F</td>\n",
       "      <td>71</td>\n",
       "      <td>7b8d950572954f79b8f47809099c77e9</td>\n",
       "      <td>2018-07-12</td>\n",
       "      <td>65200</td>\n",
       "    </tr>\n",
       "    <tr>\n",
       "      <th>16462</th>\n",
       "      <td>F</td>\n",
       "      <td>76</td>\n",
       "      <td>d0b518c8bc034ea2a2ac83e34e55be97</td>\n",
       "      <td>2015-12-10</td>\n",
       "      <td>65200</td>\n",
       "    </tr>\n",
       "  </tbody>\n",
       "</table>\n",
       "<p>87 rows × 5 columns</p>\n",
       "</div>"
      ],
      "text/plain": [
       "      genero  idade                                id membro_desde  \\\n",
       "3          F     75  78afa995795e4d85b5d9ceeca43f5fef   2017-05-09   \n",
       "21         M     64  4b0da7e80e5945209a1fdddfe813dbe0   2017-09-09   \n",
       "390        F     41  5084c3bf96464d63bc54f298ce45aef0   2016-04-14   \n",
       "425        M     51  227f2d69e46a4899b70d48182822cff6   2018-05-12   \n",
       "526        F     57  f92d608f58bf40178cc3c9568750c559   2018-01-17   \n",
       "...      ...    ...                               ...          ...   \n",
       "15605      M     41  269dce9ba8004504ae3a587a7df9db13   2015-10-24   \n",
       "15943      M     65  6b1c9e0cc8a54186a4129131a1726738   2018-01-05   \n",
       "16158      M     63  156e898fd57b431683d6e72e4ab6eb9c   2017-10-18   \n",
       "16289      F     71  7b8d950572954f79b8f47809099c77e9   2018-07-12   \n",
       "16462      F     76  d0b518c8bc034ea2a2ac83e34e55be97   2015-12-10   \n",
       "\n",
       "       renda_anual  \n",
       "3            65200  \n",
       "21           65200  \n",
       "390          65200  \n",
       "425          65200  \n",
       "526          65200  \n",
       "...            ...  \n",
       "15605        65200  \n",
       "15943        65200  \n",
       "16158        65200  \n",
       "16289        65200  \n",
       "16462        65200  \n",
       "\n",
       "[87 rows x 5 columns]"
      ]
     },
     "execution_count": 539,
     "metadata": {},
     "output_type": "execute_result"
    }
   ],
   "source": [
    "# Alterar o valor das células na Coluna2 que são maiores que 30\n",
    "clientes.loc[clientes['renda_anual'] == 10000000, 'renda_anual'] = int(renda_media)\n",
    "clientes[clientes['renda_anual'] == int(renda_media)]\n"
   ]
  },
  {
   "cell_type": "code",
   "execution_count": 540,
   "metadata": {},
   "outputs": [
    {
     "data": {
      "text/html": [
       "<div>\n",
       "<style scoped>\n",
       "    .dataframe tbody tr th:only-of-type {\n",
       "        vertical-align: middle;\n",
       "    }\n",
       "\n",
       "    .dataframe tbody tr th {\n",
       "        vertical-align: top;\n",
       "    }\n",
       "\n",
       "    .dataframe thead th {\n",
       "        text-align: right;\n",
       "    }\n",
       "</style>\n",
       "<table border=\"1\" class=\"dataframe\">\n",
       "  <thead>\n",
       "    <tr style=\"text-align: right;\">\n",
       "      <th></th>\n",
       "      <th>genero</th>\n",
       "      <th>idade</th>\n",
       "      <th>id</th>\n",
       "      <th>membro_desde</th>\n",
       "      <th>renda_anual</th>\n",
       "    </tr>\n",
       "  </thead>\n",
       "  <tbody>\n",
       "    <tr>\n",
       "      <th>0</th>\n",
       "      <td>F</td>\n",
       "      <td>55</td>\n",
       "      <td>0610b486422d4921ae7d2bf64640c50b</td>\n",
       "      <td>2017-07-15</td>\n",
       "      <td>112000</td>\n",
       "    </tr>\n",
       "    <tr>\n",
       "      <th>1</th>\n",
       "      <td>F</td>\n",
       "      <td>75</td>\n",
       "      <td>78afa995795e4d85b5d9ceeca43f5fef</td>\n",
       "      <td>2017-05-09</td>\n",
       "      <td>65200</td>\n",
       "    </tr>\n",
       "    <tr>\n",
       "      <th>2</th>\n",
       "      <td>M</td>\n",
       "      <td>68</td>\n",
       "      <td>e2127556f4f64592b11af22de27a7932</td>\n",
       "      <td>2018-04-26</td>\n",
       "      <td>70000</td>\n",
       "    </tr>\n",
       "    <tr>\n",
       "      <th>3</th>\n",
       "      <td>M</td>\n",
       "      <td>65</td>\n",
       "      <td>389bc3fa690240e798340f5a15918d5c</td>\n",
       "      <td>2018-02-09</td>\n",
       "      <td>53000</td>\n",
       "    </tr>\n",
       "    <tr>\n",
       "      <th>4</th>\n",
       "      <td>M</td>\n",
       "      <td>58</td>\n",
       "      <td>2eeac8d8feae4a8cad5a6af0499a211d</td>\n",
       "      <td>2017-11-11</td>\n",
       "      <td>51000</td>\n",
       "    </tr>\n",
       "    <tr>\n",
       "      <th>...</th>\n",
       "      <td>...</td>\n",
       "      <td>...</td>\n",
       "      <td>...</td>\n",
       "      <td>...</td>\n",
       "      <td>...</td>\n",
       "    </tr>\n",
       "    <tr>\n",
       "      <th>14820</th>\n",
       "      <td>F</td>\n",
       "      <td>45</td>\n",
       "      <td>6d5f3a774f3d4714ab0c092238f3a1d7</td>\n",
       "      <td>2018-06-04</td>\n",
       "      <td>54000</td>\n",
       "    </tr>\n",
       "    <tr>\n",
       "      <th>14821</th>\n",
       "      <td>M</td>\n",
       "      <td>61</td>\n",
       "      <td>2cb4f97358b841b9a9773a7aa05a9d77</td>\n",
       "      <td>2018-07-13</td>\n",
       "      <td>72000</td>\n",
       "    </tr>\n",
       "    <tr>\n",
       "      <th>14822</th>\n",
       "      <td>M</td>\n",
       "      <td>49</td>\n",
       "      <td>01d26f638c274aa0b965d24cefe3183f</td>\n",
       "      <td>2017-01-26</td>\n",
       "      <td>73000</td>\n",
       "    </tr>\n",
       "    <tr>\n",
       "      <th>14823</th>\n",
       "      <td>F</td>\n",
       "      <td>83</td>\n",
       "      <td>9dc1421481194dcd9400aec7c9ae6366</td>\n",
       "      <td>2016-03-07</td>\n",
       "      <td>50000</td>\n",
       "    </tr>\n",
       "    <tr>\n",
       "      <th>14824</th>\n",
       "      <td>F</td>\n",
       "      <td>62</td>\n",
       "      <td>e4052622e5ba45a8b96b59aba68cf068</td>\n",
       "      <td>2017-07-22</td>\n",
       "      <td>82000</td>\n",
       "    </tr>\n",
       "  </tbody>\n",
       "</table>\n",
       "<p>14825 rows × 5 columns</p>\n",
       "</div>"
      ],
      "text/plain": [
       "      genero  idade                                id membro_desde  \\\n",
       "0          F     55  0610b486422d4921ae7d2bf64640c50b   2017-07-15   \n",
       "1          F     75  78afa995795e4d85b5d9ceeca43f5fef   2017-05-09   \n",
       "2          M     68  e2127556f4f64592b11af22de27a7932   2018-04-26   \n",
       "3          M     65  389bc3fa690240e798340f5a15918d5c   2018-02-09   \n",
       "4          M     58  2eeac8d8feae4a8cad5a6af0499a211d   2017-11-11   \n",
       "...      ...    ...                               ...          ...   \n",
       "14820      F     45  6d5f3a774f3d4714ab0c092238f3a1d7   2018-06-04   \n",
       "14821      M     61  2cb4f97358b841b9a9773a7aa05a9d77   2018-07-13   \n",
       "14822      M     49  01d26f638c274aa0b965d24cefe3183f   2017-01-26   \n",
       "14823      F     83  9dc1421481194dcd9400aec7c9ae6366   2016-03-07   \n",
       "14824      F     62  e4052622e5ba45a8b96b59aba68cf068   2017-07-22   \n",
       "\n",
       "       renda_anual  \n",
       "0           112000  \n",
       "1            65200  \n",
       "2            70000  \n",
       "3            53000  \n",
       "4            51000  \n",
       "...            ...  \n",
       "14820        54000  \n",
       "14821        72000  \n",
       "14822        73000  \n",
       "14823        50000  \n",
       "14824        82000  \n",
       "\n",
       "[14825 rows x 5 columns]"
      ]
     },
     "execution_count": 540,
     "metadata": {},
     "output_type": "execute_result"
    }
   ],
   "source": [
    "# Consertando o índice que está fora de ordem devido às retiradas de elementos\n",
    "clientes.reset_index(drop=True)"
   ]
  },
  {
   "attachments": {},
   "cell_type": "markdown",
   "metadata": {},
   "source": [
    "De acordo com Huang (1998)¹, o algoritmo k-means não pode ser utilizado para agrupar variáveis cateóricas, tendo em vista que não tem sentido calcular algum tipo de distância euclidiana entre suas categorias. O autor chega a propor uma estratégia para que seja realizado o agrupamento misto, isso é, com variáveis de tipo categórico e outras de tipo numérico. No entanto, optou-se por se valer de uma solução simplificada para o problema por duas razões. Primeiramente por questões de complexidade. O fator mais importante, porém, é que para as estratégias de marketing utilizadas pela empresa, o gênero do cliente não é um fator que apresenta relevância aparentemente. Os  eventos de publicidade são feitos com base em tipos de informação ou ofertas, e atingem o cliente em canais de comunicação diversos para cada evento (web, e-mail, celular, etc). Para ambas as categorias o gênero não parece ter relação com a funcionalidade do marketing. Ao contrário de variáveis como renda, em que promoções tendem a ter um alto impacto. A variável de idade também é de se esperar que seja relevante, tendo em vista que certas redes sociais ou aplicativos e canais de comunicação são de preferência de certa faixa etária, ou mesmo feitos com design para tipos de usuário de certa idade. \n",
    "Como publicado pelo website Sprout Social, a faixa etária está bastante relacionada à utilização de cada rede social². \n",
    "\n",
    "¹ HUANG, Zhexue. Extensions to the k-means algorithm for clustering large data sets with categorical values. Data mining and knowledge discovery, v. 2, n. 3, p. 283-304, 1998.\n",
    "\n",
    "² https://sproutsocial.com/pt/insights/new-social-media-demographics-pt_br/"
   ]
  },
  {
   "cell_type": "code",
   "execution_count": 541,
   "metadata": {},
   "outputs": [
    {
     "data": {
      "text/html": [
       "<div>\n",
       "<style scoped>\n",
       "    .dataframe tbody tr th:only-of-type {\n",
       "        vertical-align: middle;\n",
       "    }\n",
       "\n",
       "    .dataframe tbody tr th {\n",
       "        vertical-align: top;\n",
       "    }\n",
       "\n",
       "    .dataframe thead th {\n",
       "        text-align: right;\n",
       "    }\n",
       "</style>\n",
       "<table border=\"1\" class=\"dataframe\">\n",
       "  <thead>\n",
       "    <tr style=\"text-align: right;\">\n",
       "      <th></th>\n",
       "      <th>idade</th>\n",
       "      <th>renda_anual</th>\n",
       "    </tr>\n",
       "  </thead>\n",
       "  <tbody>\n",
       "    <tr>\n",
       "      <th>0</th>\n",
       "      <td>55</td>\n",
       "      <td>112000</td>\n",
       "    </tr>\n",
       "    <tr>\n",
       "      <th>1</th>\n",
       "      <td>75</td>\n",
       "      <td>65200</td>\n",
       "    </tr>\n",
       "    <tr>\n",
       "      <th>2</th>\n",
       "      <td>68</td>\n",
       "      <td>70000</td>\n",
       "    </tr>\n",
       "    <tr>\n",
       "      <th>3</th>\n",
       "      <td>65</td>\n",
       "      <td>53000</td>\n",
       "    </tr>\n",
       "    <tr>\n",
       "      <th>4</th>\n",
       "      <td>58</td>\n",
       "      <td>51000</td>\n",
       "    </tr>\n",
       "    <tr>\n",
       "      <th>...</th>\n",
       "      <td>...</td>\n",
       "      <td>...</td>\n",
       "    </tr>\n",
       "    <tr>\n",
       "      <th>14820</th>\n",
       "      <td>45</td>\n",
       "      <td>54000</td>\n",
       "    </tr>\n",
       "    <tr>\n",
       "      <th>14821</th>\n",
       "      <td>61</td>\n",
       "      <td>72000</td>\n",
       "    </tr>\n",
       "    <tr>\n",
       "      <th>14822</th>\n",
       "      <td>49</td>\n",
       "      <td>73000</td>\n",
       "    </tr>\n",
       "    <tr>\n",
       "      <th>14823</th>\n",
       "      <td>83</td>\n",
       "      <td>50000</td>\n",
       "    </tr>\n",
       "    <tr>\n",
       "      <th>14824</th>\n",
       "      <td>62</td>\n",
       "      <td>82000</td>\n",
       "    </tr>\n",
       "  </tbody>\n",
       "</table>\n",
       "<p>14825 rows × 2 columns</p>\n",
       "</div>"
      ],
      "text/plain": [
       "       idade  renda_anual\n",
       "0         55       112000\n",
       "1         75        65200\n",
       "2         68        70000\n",
       "3         65        53000\n",
       "4         58        51000\n",
       "...      ...          ...\n",
       "14820     45        54000\n",
       "14821     61        72000\n",
       "14822     49        73000\n",
       "14823     83        50000\n",
       "14824     62        82000\n",
       "\n",
       "[14825 rows x 2 columns]"
      ]
     },
     "execution_count": 541,
     "metadata": {},
     "output_type": "execute_result"
    }
   ],
   "source": [
    "# Para criar um perfil de clientes as colunas 'id' e 'membro_desde' não são úteis \n",
    "clientes_processado = clientes.drop(columns=['id', 'membro_desde', 'genero']).reset_index(drop=True)\n",
    "clientes_processado"
   ]
  },
  {
   "cell_type": "code",
   "execution_count": 542,
   "metadata": {},
   "outputs": [
    {
     "data": {
      "text/plain": [
       "array([[ 3.48887646e-02,  2.18347327e+00],\n",
       "       [ 1.18543027e+00, -3.58772636e-05],\n",
       "       [ 7.82740744e-01,  2.23913779e-01],\n",
       "       ...,\n",
       "       [-3.10273688e-01,  3.63882314e-01],\n",
       "       [ 1.64564687e+00, -7.09209788e-01],\n",
       "       [ 4.37578292e-01,  7.83787919e-01]])"
      ]
     },
     "execution_count": 542,
     "metadata": {},
     "output_type": "execute_result"
    }
   ],
   "source": [
    "# Ajustando a escala para o modelo.\n",
    "\n",
    "# O ajuste de escala é necessário para que a magnitude dos valores não \n",
    "# desbalanceie o peso de cada coluna no processo de agrupamento.\n",
    "\n",
    "scaler = StandardScaler()\n",
    "clientes_processado = scaler.fit_transform(clientes_processado)\n",
    "clientes_processado"
   ]
  },
  {
   "cell_type": "code",
   "execution_count": 543,
   "metadata": {},
   "outputs": [],
   "source": [
    "clientes_processado = pd.DataFrame(data = clientes_processado,columns = ('idade_processada', 'renda_anual_processada'))"
   ]
  },
  {
   "cell_type": "code",
   "execution_count": 544,
   "metadata": {},
   "outputs": [
    {
     "data": {
      "image/png": "[encoded data removed]",
      "text/plain": [
       "<Figure size 864x432 with 1 Axes>"
      ]
     },
     "metadata": {},
     "output_type": "display_data"
    }
   ],
   "source": [
    "# Verificação do número ótimo de grupos através do Método de Elbow\n",
    "\n",
    "wcss = [] # Cluster feito pela diferença quadrática\n",
    "\n",
    "SEED = 101\n",
    "\n",
    "for k in range(1,15):\n",
    "    kmeans = KMeans(n_clusters=k, init='k-means++', random_state=SEED)\n",
    "    kmeans.fit(clientes_processado)\n",
    "    wcss.append(kmeans.inertia_)\n",
    "\n",
    "plt.figure(figsize=(12,6))    \n",
    "plt.grid()\n",
    "plt.plot(range(1,15), wcss, linewidth=2, color='green', marker ='*')\n",
    "plt.xlabel('Valor de k')\n",
    "plt.xticks(np.arange(1,11,1))\n",
    "plt.ylabel('WCSS')\n",
    "plt.show()"
   ]
  },
  {
   "attachments": {},
   "cell_type": "markdown",
   "metadata": {},
   "source": [
    "Pode-se notar que o número ótimo de grupos para a base com apenas as variáveis de idade e renda anual é 5. O chamado joelho da curva se localiza no ponto de valor de k = 5."
   ]
  },
  {
   "cell_type": "code",
   "execution_count": 545,
   "metadata": {},
   "outputs": [
    {
     "ename": "AttributeError",
     "evalue": "'numpy.ndarray' object has no attribute 'reset_index'",
     "output_type": "error",
     "traceback": [
      "\u001b[1;31m---------------------------------------------------------------------------\u001b[0m",
      "\u001b[1;31mAttributeError\u001b[0m                            Traceback (most recent call last)",
      "\u001b[1;32mc:\\Users\\USER\\Desktop\\vaga estágio\\projeto_estagio_antonio.ipynb Cell 77\u001b[0m in \u001b[0;36m<cell line: 5>\u001b[1;34m()\u001b[0m\n\u001b[0;32m      <a href='vscode-notebook-cell:/c%3A/Users/USER/Desktop/vaga%20est%C3%A1gio/projeto_estagio_antonio.ipynb#Y131sZmlsZQ%3D%3D?line=1'>2</a>\u001b[0m km \u001b[39m=\u001b[39m KMeans(n_clusters\u001b[39m=\u001b[39m\u001b[39m5\u001b[39m)\n\u001b[0;32m      <a href='vscode-notebook-cell:/c%3A/Users/USER/Desktop/vaga%20est%C3%A1gio/projeto_estagio_antonio.ipynb#Y131sZmlsZQ%3D%3D?line=3'>4</a>\u001b[0m \u001b[39m# Define-se a qual grupo de cada cliente\u001b[39;00m\n\u001b[1;32m----> <a href='vscode-notebook-cell:/c%3A/Users/USER/Desktop/vaga%20est%C3%A1gio/projeto_estagio_antonio.ipynb#Y131sZmlsZQ%3D%3D?line=4'>5</a>\u001b[0m grupos \u001b[39m=\u001b[39m km\u001b[39m.\u001b[39;49mfit_predict(clientes_processado)\u001b[39m.\u001b[39;49mreset_index(drop\u001b[39m=\u001b[39m\u001b[39mTrue\u001b[39;00m)\n",
      "\u001b[1;31mAttributeError\u001b[0m: 'numpy.ndarray' object has no attribute 'reset_index'"
     ]
    }
   ],
   "source": [
    "# Definição da função de agrupamento\n",
    "km = KMeans(n_clusters=5)\n",
    "\n",
    "# Define-se a qual grupo de cada cliente\n",
    "grupos = km.fit_predict(clientes_processado)\n"
   ]
  },
  {
   "cell_type": "code",
   "execution_count": null,
   "metadata": {},
   "outputs": [
    {
     "data": {
      "text/html": [
       "<div>\n",
       "<style scoped>\n",
       "    .dataframe tbody tr th:only-of-type {\n",
       "        vertical-align: middle;\n",
       "    }\n",
       "\n",
       "    .dataframe tbody tr th {\n",
       "        vertical-align: top;\n",
       "    }\n",
       "\n",
       "    .dataframe thead th {\n",
       "        text-align: right;\n",
       "    }\n",
       "</style>\n",
       "<table border=\"1\" class=\"dataframe\">\n",
       "  <thead>\n",
       "    <tr style=\"text-align: right;\">\n",
       "      <th></th>\n",
       "      <th>idade_processada</th>\n",
       "      <th>renda_anual_processada</th>\n",
       "    </tr>\n",
       "  </thead>\n",
       "  <tbody>\n",
       "    <tr>\n",
       "      <th>0</th>\n",
       "      <td>0.034889</td>\n",
       "      <td>2.183473</td>\n",
       "    </tr>\n",
       "    <tr>\n",
       "      <th>1</th>\n",
       "      <td>1.185430</td>\n",
       "      <td>-0.000036</td>\n",
       "    </tr>\n",
       "    <tr>\n",
       "      <th>2</th>\n",
       "      <td>0.782741</td>\n",
       "      <td>0.223914</td>\n",
       "    </tr>\n",
       "    <tr>\n",
       "      <th>3</th>\n",
       "      <td>0.610160</td>\n",
       "      <td>-0.569241</td>\n",
       "    </tr>\n",
       "    <tr>\n",
       "      <th>4</th>\n",
       "      <td>0.207470</td>\n",
       "      <td>-0.662554</td>\n",
       "    </tr>\n",
       "    <tr>\n",
       "      <th>...</th>\n",
       "      <td>...</td>\n",
       "      <td>...</td>\n",
       "    </tr>\n",
       "    <tr>\n",
       "      <th>14820</th>\n",
       "      <td>-0.540382</td>\n",
       "      <td>-0.522585</td>\n",
       "    </tr>\n",
       "    <tr>\n",
       "      <th>14821</th>\n",
       "      <td>0.380051</td>\n",
       "      <td>0.317226</td>\n",
       "    </tr>\n",
       "    <tr>\n",
       "      <th>14822</th>\n",
       "      <td>-0.310274</td>\n",
       "      <td>0.363882</td>\n",
       "    </tr>\n",
       "    <tr>\n",
       "      <th>14823</th>\n",
       "      <td>1.645647</td>\n",
       "      <td>-0.709210</td>\n",
       "    </tr>\n",
       "    <tr>\n",
       "      <th>14824</th>\n",
       "      <td>0.437578</td>\n",
       "      <td>0.783788</td>\n",
       "    </tr>\n",
       "  </tbody>\n",
       "</table>\n",
       "<p>14825 rows × 2 columns</p>\n",
       "</div>"
      ],
      "text/plain": [
       "       idade_processada  renda_anual_processada\n",
       "0              0.034889                2.183473\n",
       "1              1.185430               -0.000036\n",
       "2              0.782741                0.223914\n",
       "3              0.610160               -0.569241\n",
       "4              0.207470               -0.662554\n",
       "...                 ...                     ...\n",
       "14820         -0.540382               -0.522585\n",
       "14821          0.380051                0.317226\n",
       "14822         -0.310274                0.363882\n",
       "14823          1.645647               -0.709210\n",
       "14824          0.437578                0.783788\n",
       "\n",
       "[14825 rows x 2 columns]"
      ]
     },
     "execution_count": 489,
     "metadata": {},
     "output_type": "execute_result"
    }
   ],
   "source": [
    "clientes_processado"
   ]
  },
  {
   "cell_type": "code",
   "execution_count": 550,
   "metadata": {},
   "outputs": [
    {
     "data": {
      "text/html": [
       "<div>\n",
       "<style scoped>\n",
       "    .dataframe tbody tr th:only-of-type {\n",
       "        vertical-align: middle;\n",
       "    }\n",
       "\n",
       "    .dataframe tbody tr th {\n",
       "        vertical-align: top;\n",
       "    }\n",
       "\n",
       "    .dataframe thead th {\n",
       "        text-align: right;\n",
       "    }\n",
       "</style>\n",
       "<table border=\"1\" class=\"dataframe\">\n",
       "  <thead>\n",
       "    <tr style=\"text-align: right;\">\n",
       "      <th></th>\n",
       "      <th>idade_processada</th>\n",
       "      <th>renda_anual_processada</th>\n",
       "      <th>id</th>\n",
       "      <th>grupo</th>\n",
       "    </tr>\n",
       "  </thead>\n",
       "  <tbody>\n",
       "    <tr>\n",
       "      <th>0</th>\n",
       "      <td>0.034889</td>\n",
       "      <td>2.183473</td>\n",
       "      <td>0610b486422d4921ae7d2bf64640c50b</td>\n",
       "      <td>2</td>\n",
       "    </tr>\n",
       "    <tr>\n",
       "      <th>1</th>\n",
       "      <td>1.185430</td>\n",
       "      <td>-0.000036</td>\n",
       "      <td>78afa995795e4d85b5d9ceeca43f5fef</td>\n",
       "      <td>1</td>\n",
       "    </tr>\n",
       "    <tr>\n",
       "      <th>2</th>\n",
       "      <td>0.782741</td>\n",
       "      <td>0.223914</td>\n",
       "      <td>e2127556f4f64592b11af22de27a7932</td>\n",
       "      <td>1</td>\n",
       "    </tr>\n",
       "    <tr>\n",
       "      <th>3</th>\n",
       "      <td>0.610160</td>\n",
       "      <td>-0.569241</td>\n",
       "      <td>389bc3fa690240e798340f5a15918d5c</td>\n",
       "      <td>3</td>\n",
       "    </tr>\n",
       "    <tr>\n",
       "      <th>4</th>\n",
       "      <td>0.207470</td>\n",
       "      <td>-0.662554</td>\n",
       "      <td>2eeac8d8feae4a8cad5a6af0499a211d</td>\n",
       "      <td>3</td>\n",
       "    </tr>\n",
       "    <tr>\n",
       "      <th>...</th>\n",
       "      <td>...</td>\n",
       "      <td>...</td>\n",
       "      <td>...</td>\n",
       "      <td>...</td>\n",
       "    </tr>\n",
       "    <tr>\n",
       "      <th>14820</th>\n",
       "      <td>-0.540382</td>\n",
       "      <td>-0.522585</td>\n",
       "      <td>6d5f3a774f3d4714ab0c092238f3a1d7</td>\n",
       "      <td>0</td>\n",
       "    </tr>\n",
       "    <tr>\n",
       "      <th>14821</th>\n",
       "      <td>0.380051</td>\n",
       "      <td>0.317226</td>\n",
       "      <td>2cb4f97358b841b9a9773a7aa05a9d77</td>\n",
       "      <td>4</td>\n",
       "    </tr>\n",
       "    <tr>\n",
       "      <th>14822</th>\n",
       "      <td>-0.310274</td>\n",
       "      <td>0.363882</td>\n",
       "      <td>01d26f638c274aa0b965d24cefe3183f</td>\n",
       "      <td>4</td>\n",
       "    </tr>\n",
       "    <tr>\n",
       "      <th>14823</th>\n",
       "      <td>1.645647</td>\n",
       "      <td>-0.709210</td>\n",
       "      <td>9dc1421481194dcd9400aec7c9ae6366</td>\n",
       "      <td>1</td>\n",
       "    </tr>\n",
       "    <tr>\n",
       "      <th>14824</th>\n",
       "      <td>0.437578</td>\n",
       "      <td>0.783788</td>\n",
       "      <td>e4052622e5ba45a8b96b59aba68cf068</td>\n",
       "      <td>4</td>\n",
       "    </tr>\n",
       "  </tbody>\n",
       "</table>\n",
       "<p>14825 rows × 4 columns</p>\n",
       "</div>"
      ],
      "text/plain": [
       "       idade_processada  renda_anual_processada  \\\n",
       "0              0.034889                2.183473   \n",
       "1              1.185430               -0.000036   \n",
       "2              0.782741                0.223914   \n",
       "3              0.610160               -0.569241   \n",
       "4              0.207470               -0.662554   \n",
       "...                 ...                     ...   \n",
       "14820         -0.540382               -0.522585   \n",
       "14821          0.380051                0.317226   \n",
       "14822         -0.310274                0.363882   \n",
       "14823          1.645647               -0.709210   \n",
       "14824          0.437578                0.783788   \n",
       "\n",
       "                                     id  grupo  \n",
       "0      0610b486422d4921ae7d2bf64640c50b      2  \n",
       "1      78afa995795e4d85b5d9ceeca43f5fef      1  \n",
       "2      e2127556f4f64592b11af22de27a7932      1  \n",
       "3      389bc3fa690240e798340f5a15918d5c      3  \n",
       "4      2eeac8d8feae4a8cad5a6af0499a211d      3  \n",
       "...                                 ...    ...  \n",
       "14820  6d5f3a774f3d4714ab0c092238f3a1d7      0  \n",
       "14821  2cb4f97358b841b9a9773a7aa05a9d77      4  \n",
       "14822  01d26f638c274aa0b965d24cefe3183f      4  \n",
       "14823  9dc1421481194dcd9400aec7c9ae6366      1  \n",
       "14824  e4052622e5ba45a8b96b59aba68cf068      4  \n",
       "\n",
       "[14825 rows x 4 columns]"
      ]
     },
     "execution_count": 550,
     "metadata": {},
     "output_type": "execute_result"
    }
   ],
   "source": [
    "# Coluna de grupo adicionada à base de dados do modelo\n",
    "clientes_processado['grupo'] = grupos\n",
    "clientes_processado"
   ]
  },
  {
   "cell_type": "code",
   "execution_count": 551,
   "metadata": {},
   "outputs": [
    {
     "data": {
      "text/plain": [
       "6       -0.895835\n",
       "16      -0.615897\n",
       "21       0.223914\n",
       "23      -1.502365\n",
       "26      -0.102679\n",
       "           ...   \n",
       "14807   -0.522585\n",
       "14808   -0.335960\n",
       "14813   -0.475929\n",
       "14818    0.317226\n",
       "14820   -0.522585\n",
       "Name: renda_anual_processada, Length: 3433, dtype: float64"
      ]
     },
     "execution_count": 551,
     "metadata": {},
     "output_type": "execute_result"
    }
   ],
   "source": [
    "clientes_processado['renda_anual_processada'][clientes_processado['grupo'] == 0]"
   ]
  },
  {
   "cell_type": "code",
   "execution_count": 552,
   "metadata": {},
   "outputs": [
    {
     "data": {
      "image/png": "[encoded data removed]",
      "text/plain": [
       "<Figure size 1440x720 with 1 Axes>"
      ]
     },
     "metadata": {},
     "output_type": "display_data"
    }
   ],
   "source": [
    "# Visualização da distrbuição dos grupos ou clusters num plano de idade por renda anual\n",
    "\n",
    "fig = plt.figure(figsize=(20,10))\n",
    "ax = fig.add_subplot(111)\n",
    "ax.scatter(clientes_processado['renda_anual_processada'][clientes_processado['grupo'] == 0], clientes_processado['idade_processada'][clientes_processado['grupo'] == 0], c='blue', s=60)\n",
    "ax.scatter(clientes_processado['renda_anual_processada'][clientes_processado['grupo'] == 1], clientes_processado['idade_processada'][clientes_processado['grupo'] == 1], c='green', s=60)\n",
    "ax.scatter(clientes_processado['renda_anual_processada'][clientes_processado['grupo'] == 2], clientes_processado['idade_processada'][clientes_processado['grupo'] == 2], c='red', s=60)\n",
    "ax.scatter(clientes_processado['renda_anual_processada'][clientes_processado['grupo'] == 3], clientes_processado['idade_processada'][clientes_processado['grupo'] == 3], c='purple', s=60)\n",
    "ax.scatter(clientes_processado['renda_anual_processada'][clientes_processado['grupo'] == 4], clientes_processado['idade_processada'][clientes_processado['grupo'] == 4], c='orange', s=60)\n",
    "\n",
    "plt.xlabel('Renda anual')\n",
    "plt.ylabel('Idade')\n",
    "plt.show()"
   ]
  },
  {
   "cell_type": "code",
   "execution_count": 558,
   "metadata": {},
   "outputs": [
    {
     "data": {
      "text/html": [
       "<div>\n",
       "<style scoped>\n",
       "    .dataframe tbody tr th:only-of-type {\n",
       "        vertical-align: middle;\n",
       "    }\n",
       "\n",
       "    .dataframe tbody tr th {\n",
       "        vertical-align: top;\n",
       "    }\n",
       "\n",
       "    .dataframe thead th {\n",
       "        text-align: right;\n",
       "    }\n",
       "</style>\n",
       "<table border=\"1\" class=\"dataframe\">\n",
       "  <thead>\n",
       "    <tr style=\"text-align: right;\">\n",
       "      <th></th>\n",
       "      <th>idade_processada</th>\n",
       "      <th>renda_anual_processada</th>\n",
       "      <th>id</th>\n",
       "      <th>grupo</th>\n",
       "      <th>id</th>\n",
       "      <th>renda_anual</th>\n",
       "      <th>idade</th>\n",
       "    </tr>\n",
       "  </thead>\n",
       "  <tbody>\n",
       "    <tr>\n",
       "      <th>0</th>\n",
       "      <td>0.034889</td>\n",
       "      <td>2.183473</td>\n",
       "      <td>0610b486422d4921ae7d2bf64640c50b</td>\n",
       "      <td>2</td>\n",
       "      <td>0610b486422d4921ae7d2bf64640c50b</td>\n",
       "      <td>112000</td>\n",
       "      <td>55</td>\n",
       "    </tr>\n",
       "    <tr>\n",
       "      <th>1</th>\n",
       "      <td>1.185430</td>\n",
       "      <td>-0.000036</td>\n",
       "      <td>78afa995795e4d85b5d9ceeca43f5fef</td>\n",
       "      <td>1</td>\n",
       "      <td>78afa995795e4d85b5d9ceeca43f5fef</td>\n",
       "      <td>65200</td>\n",
       "      <td>75</td>\n",
       "    </tr>\n",
       "    <tr>\n",
       "      <th>2</th>\n",
       "      <td>0.782741</td>\n",
       "      <td>0.223914</td>\n",
       "      <td>e2127556f4f64592b11af22de27a7932</td>\n",
       "      <td>1</td>\n",
       "      <td>e2127556f4f64592b11af22de27a7932</td>\n",
       "      <td>70000</td>\n",
       "      <td>68</td>\n",
       "    </tr>\n",
       "    <tr>\n",
       "      <th>3</th>\n",
       "      <td>0.610160</td>\n",
       "      <td>-0.569241</td>\n",
       "      <td>389bc3fa690240e798340f5a15918d5c</td>\n",
       "      <td>3</td>\n",
       "      <td>389bc3fa690240e798340f5a15918d5c</td>\n",
       "      <td>53000</td>\n",
       "      <td>65</td>\n",
       "    </tr>\n",
       "    <tr>\n",
       "      <th>4</th>\n",
       "      <td>0.207470</td>\n",
       "      <td>-0.662554</td>\n",
       "      <td>2eeac8d8feae4a8cad5a6af0499a211d</td>\n",
       "      <td>3</td>\n",
       "      <td>2eeac8d8feae4a8cad5a6af0499a211d</td>\n",
       "      <td>51000</td>\n",
       "      <td>58</td>\n",
       "    </tr>\n",
       "    <tr>\n",
       "      <th>...</th>\n",
       "      <td>...</td>\n",
       "      <td>...</td>\n",
       "      <td>...</td>\n",
       "      <td>...</td>\n",
       "      <td>...</td>\n",
       "      <td>...</td>\n",
       "      <td>...</td>\n",
       "    </tr>\n",
       "    <tr>\n",
       "      <th>14820</th>\n",
       "      <td>-0.540382</td>\n",
       "      <td>-0.522585</td>\n",
       "      <td>6d5f3a774f3d4714ab0c092238f3a1d7</td>\n",
       "      <td>0</td>\n",
       "      <td>6d5f3a774f3d4714ab0c092238f3a1d7</td>\n",
       "      <td>54000</td>\n",
       "      <td>45</td>\n",
       "    </tr>\n",
       "    <tr>\n",
       "      <th>14821</th>\n",
       "      <td>0.380051</td>\n",
       "      <td>0.317226</td>\n",
       "      <td>2cb4f97358b841b9a9773a7aa05a9d77</td>\n",
       "      <td>4</td>\n",
       "      <td>2cb4f97358b841b9a9773a7aa05a9d77</td>\n",
       "      <td>72000</td>\n",
       "      <td>61</td>\n",
       "    </tr>\n",
       "    <tr>\n",
       "      <th>14822</th>\n",
       "      <td>-0.310274</td>\n",
       "      <td>0.363882</td>\n",
       "      <td>01d26f638c274aa0b965d24cefe3183f</td>\n",
       "      <td>4</td>\n",
       "      <td>01d26f638c274aa0b965d24cefe3183f</td>\n",
       "      <td>73000</td>\n",
       "      <td>49</td>\n",
       "    </tr>\n",
       "    <tr>\n",
       "      <th>14823</th>\n",
       "      <td>1.645647</td>\n",
       "      <td>-0.709210</td>\n",
       "      <td>9dc1421481194dcd9400aec7c9ae6366</td>\n",
       "      <td>1</td>\n",
       "      <td>9dc1421481194dcd9400aec7c9ae6366</td>\n",
       "      <td>50000</td>\n",
       "      <td>83</td>\n",
       "    </tr>\n",
       "    <tr>\n",
       "      <th>14824</th>\n",
       "      <td>0.437578</td>\n",
       "      <td>0.783788</td>\n",
       "      <td>e4052622e5ba45a8b96b59aba68cf068</td>\n",
       "      <td>4</td>\n",
       "      <td>e4052622e5ba45a8b96b59aba68cf068</td>\n",
       "      <td>82000</td>\n",
       "      <td>62</td>\n",
       "    </tr>\n",
       "  </tbody>\n",
       "</table>\n",
       "<p>14825 rows × 7 columns</p>\n",
       "</div>"
      ],
      "text/plain": [
       "       idade_processada  renda_anual_processada  \\\n",
       "0              0.034889                2.183473   \n",
       "1              1.185430               -0.000036   \n",
       "2              0.782741                0.223914   \n",
       "3              0.610160               -0.569241   \n",
       "4              0.207470               -0.662554   \n",
       "...                 ...                     ...   \n",
       "14820         -0.540382               -0.522585   \n",
       "14821          0.380051                0.317226   \n",
       "14822         -0.310274                0.363882   \n",
       "14823          1.645647               -0.709210   \n",
       "14824          0.437578                0.783788   \n",
       "\n",
       "                                     id  grupo  \\\n",
       "0      0610b486422d4921ae7d2bf64640c50b      2   \n",
       "1      78afa995795e4d85b5d9ceeca43f5fef      1   \n",
       "2      e2127556f4f64592b11af22de27a7932      1   \n",
       "3      389bc3fa690240e798340f5a15918d5c      3   \n",
       "4      2eeac8d8feae4a8cad5a6af0499a211d      3   \n",
       "...                                 ...    ...   \n",
       "14820  6d5f3a774f3d4714ab0c092238f3a1d7      0   \n",
       "14821  2cb4f97358b841b9a9773a7aa05a9d77      4   \n",
       "14822  01d26f638c274aa0b965d24cefe3183f      4   \n",
       "14823  9dc1421481194dcd9400aec7c9ae6366      1   \n",
       "14824  e4052622e5ba45a8b96b59aba68cf068      4   \n",
       "\n",
       "                                     id  renda_anual  idade  \n",
       "0      0610b486422d4921ae7d2bf64640c50b       112000     55  \n",
       "1      78afa995795e4d85b5d9ceeca43f5fef        65200     75  \n",
       "2      e2127556f4f64592b11af22de27a7932        70000     68  \n",
       "3      389bc3fa690240e798340f5a15918d5c        53000     65  \n",
       "4      2eeac8d8feae4a8cad5a6af0499a211d        51000     58  \n",
       "...                                 ...          ...    ...  \n",
       "14820  6d5f3a774f3d4714ab0c092238f3a1d7        54000     45  \n",
       "14821  2cb4f97358b841b9a9773a7aa05a9d77        72000     61  \n",
       "14822  01d26f638c274aa0b965d24cefe3183f        73000     49  \n",
       "14823  9dc1421481194dcd9400aec7c9ae6366        50000     83  \n",
       "14824  e4052622e5ba45a8b96b59aba68cf068        82000     62  \n",
       "\n",
       "[14825 rows x 7 columns]"
      ]
     },
     "execution_count": 558,
     "metadata": {},
     "output_type": "execute_result"
    }
   ],
   "source": [
    "clientes_processado = pd.concat([clientes_processado, \\\n",
    "                                 clientes['id'].reset_index(drop=True), \\\n",
    "                                 clientes['renda_anual'].reset_index(drop=True), \\\n",
    "                                 clientes['idade'].reset_index(drop=True)],\n",
    "                                 axis=1)\n",
    "clientes_processado"
   ]
  },
  {
   "cell_type": "code",
   "execution_count": 559,
   "metadata": {},
   "outputs": [
    {
     "data": {
      "text/html": [
       "<div>\n",
       "<style scoped>\n",
       "    .dataframe tbody tr th:only-of-type {\n",
       "        vertical-align: middle;\n",
       "    }\n",
       "\n",
       "    .dataframe tbody tr th {\n",
       "        vertical-align: top;\n",
       "    }\n",
       "\n",
       "    .dataframe thead th {\n",
       "        text-align: right;\n",
       "    }\n",
       "</style>\n",
       "<table border=\"1\" class=\"dataframe\">\n",
       "  <thead>\n",
       "    <tr style=\"text-align: right;\">\n",
       "      <th></th>\n",
       "      <th>idade_processada</th>\n",
       "      <th>renda_anual_processada</th>\n",
       "      <th>grupo</th>\n",
       "      <th>renda_anual</th>\n",
       "      <th>idade</th>\n",
       "    </tr>\n",
       "  </thead>\n",
       "  <tbody>\n",
       "    <tr>\n",
       "      <th>count</th>\n",
       "      <td>3433.000000</td>\n",
       "      <td>3433.000000</td>\n",
       "      <td>3433.0</td>\n",
       "      <td>3433.000000</td>\n",
       "      <td>3433.000000</td>\n",
       "    </tr>\n",
       "    <tr>\n",
       "      <th>mean</th>\n",
       "      <td>-1.350889</td>\n",
       "      <td>-0.728625</td>\n",
       "      <td>0.0</td>\n",
       "      <td>49583.862511</td>\n",
       "      <td>30.910865</td>\n",
       "    </tr>\n",
       "    <tr>\n",
       "      <th>std</th>\n",
       "      <td>0.441678</td>\n",
       "      <td>0.550502</td>\n",
       "      <td>0.0</td>\n",
       "      <td>11799.122211</td>\n",
       "      <td>7.677745</td>\n",
       "    </tr>\n",
       "    <tr>\n",
       "      <th>min</th>\n",
       "      <td>-2.093613</td>\n",
       "      <td>-1.642333</td>\n",
       "      <td>0.0</td>\n",
       "      <td>30000.000000</td>\n",
       "      <td>18.000000</td>\n",
       "    </tr>\n",
       "    <tr>\n",
       "      <th>25%</th>\n",
       "      <td>-1.748451</td>\n",
       "      <td>-1.222428</td>\n",
       "      <td>0.0</td>\n",
       "      <td>39000.000000</td>\n",
       "      <td>24.000000</td>\n",
       "    </tr>\n",
       "    <tr>\n",
       "      <th>50%</th>\n",
       "      <td>-1.345761</td>\n",
       "      <td>-0.709210</td>\n",
       "      <td>0.0</td>\n",
       "      <td>50000.000000</td>\n",
       "      <td>31.000000</td>\n",
       "    </tr>\n",
       "    <tr>\n",
       "      <th>75%</th>\n",
       "      <td>-1.000599</td>\n",
       "      <td>-0.289304</td>\n",
       "      <td>0.0</td>\n",
       "      <td>59000.000000</td>\n",
       "      <td>37.000000</td>\n",
       "    </tr>\n",
       "    <tr>\n",
       "      <th>max</th>\n",
       "      <td>-0.482855</td>\n",
       "      <td>0.457195</td>\n",
       "      <td>0.0</td>\n",
       "      <td>75000.000000</td>\n",
       "      <td>46.000000</td>\n",
       "    </tr>\n",
       "  </tbody>\n",
       "</table>\n",
       "</div>"
      ],
      "text/plain": [
       "       idade_processada  renda_anual_processada   grupo   renda_anual  \\\n",
       "count       3433.000000             3433.000000  3433.0   3433.000000   \n",
       "mean          -1.350889               -0.728625     0.0  49583.862511   \n",
       "std            0.441678                0.550502     0.0  11799.122211   \n",
       "min           -2.093613               -1.642333     0.0  30000.000000   \n",
       "25%           -1.748451               -1.222428     0.0  39000.000000   \n",
       "50%           -1.345761               -0.709210     0.0  50000.000000   \n",
       "75%           -1.000599               -0.289304     0.0  59000.000000   \n",
       "max           -0.482855                0.457195     0.0  75000.000000   \n",
       "\n",
       "             idade  \n",
       "count  3433.000000  \n",
       "mean     30.910865  \n",
       "std       7.677745  \n",
       "min      18.000000  \n",
       "25%      24.000000  \n",
       "50%      31.000000  \n",
       "75%      37.000000  \n",
       "max      46.000000  "
      ]
     },
     "execution_count": 559,
     "metadata": {},
     "output_type": "execute_result"
    }
   ],
   "source": [
    "# Grupo azul: Jovem e de renda mais baixa\n",
    "clientes_processado[clientes_processado['grupo'] == 0].describe()"
   ]
  },
  {
   "attachments": {},
   "cell_type": "markdown",
   "metadata": {},
   "source": [
    "Os mais jovens tendem a serem mais atraídos por campanhas que utilizem digital influencers e que sejam autênticas. Os jovens são mais ativos nas plataformas Instagram, Tik Tok e YouTube. Conteúdos devem ser visualmente atraentes.\n",
    "Por possuírem renda menor é essencial informá-los sobre descontos ou promoções. \n",
    "\n",
    "Fonte: https://dwdigital.com.br/canais-de-marketing-para-alcancar-a-geracao-z/"
   ]
  },
  {
   "cell_type": "code",
   "execution_count": 561,
   "metadata": {},
   "outputs": [
    {
     "data": {
      "text/html": [
       "<div>\n",
       "<style scoped>\n",
       "    .dataframe tbody tr th:only-of-type {\n",
       "        vertical-align: middle;\n",
       "    }\n",
       "\n",
       "    .dataframe tbody tr th {\n",
       "        vertical-align: top;\n",
       "    }\n",
       "\n",
       "    .dataframe thead th {\n",
       "        text-align: right;\n",
       "    }\n",
       "</style>\n",
       "<table border=\"1\" class=\"dataframe\">\n",
       "  <thead>\n",
       "    <tr style=\"text-align: right;\">\n",
       "      <th></th>\n",
       "      <th>idade_processada</th>\n",
       "      <th>renda_anual_processada</th>\n",
       "      <th>grupo</th>\n",
       "      <th>renda_anual</th>\n",
       "      <th>idade</th>\n",
       "    </tr>\n",
       "  </thead>\n",
       "  <tbody>\n",
       "    <tr>\n",
       "      <th>count</th>\n",
       "      <td>2401.000000</td>\n",
       "      <td>2401.000000</td>\n",
       "      <td>2401.0</td>\n",
       "      <td>2401.000000</td>\n",
       "      <td>2401.000000</td>\n",
       "    </tr>\n",
       "    <tr>\n",
       "      <th>mean</th>\n",
       "      <td>1.271565</td>\n",
       "      <td>0.106999</td>\n",
       "      <td>1.0</td>\n",
       "      <td>67494.127447</td>\n",
       "      <td>76.497293</td>\n",
       "    </tr>\n",
       "    <tr>\n",
       "      <th>std</th>\n",
       "      <td>0.498233</td>\n",
       "      <td>0.539840</td>\n",
       "      <td>0.0</td>\n",
       "      <td>11570.592163</td>\n",
       "      <td>8.660837</td>\n",
       "    </tr>\n",
       "    <tr>\n",
       "      <th>min</th>\n",
       "      <td>0.495105</td>\n",
       "      <td>-1.642333</td>\n",
       "      <td>1.0</td>\n",
       "      <td>30000.000000</td>\n",
       "      <td>63.000000</td>\n",
       "    </tr>\n",
       "    <tr>\n",
       "      <th>25%</th>\n",
       "      <td>0.840268</td>\n",
       "      <td>-0.242648</td>\n",
       "      <td>1.0</td>\n",
       "      <td>60000.000000</td>\n",
       "      <td>69.000000</td>\n",
       "    </tr>\n",
       "    <tr>\n",
       "      <th>50%</th>\n",
       "      <td>1.185430</td>\n",
       "      <td>0.130601</td>\n",
       "      <td>1.0</td>\n",
       "      <td>68000.000000</td>\n",
       "      <td>75.000000</td>\n",
       "    </tr>\n",
       "    <tr>\n",
       "      <th>75%</th>\n",
       "      <td>1.645647</td>\n",
       "      <td>0.503851</td>\n",
       "      <td>1.0</td>\n",
       "      <td>76000.000000</td>\n",
       "      <td>83.000000</td>\n",
       "    </tr>\n",
       "    <tr>\n",
       "      <th>max</th>\n",
       "      <td>2.681134</td>\n",
       "      <td>1.576943</td>\n",
       "      <td>1.0</td>\n",
       "      <td>99000.000000</td>\n",
       "      <td>101.000000</td>\n",
       "    </tr>\n",
       "  </tbody>\n",
       "</table>\n",
       "</div>"
      ],
      "text/plain": [
       "       idade_processada  renda_anual_processada   grupo   renda_anual  \\\n",
       "count       2401.000000             2401.000000  2401.0   2401.000000   \n",
       "mean           1.271565                0.106999     1.0  67494.127447   \n",
       "std            0.498233                0.539840     0.0  11570.592163   \n",
       "min            0.495105               -1.642333     1.0  30000.000000   \n",
       "25%            0.840268               -0.242648     1.0  60000.000000   \n",
       "50%            1.185430                0.130601     1.0  68000.000000   \n",
       "75%            1.645647                0.503851     1.0  76000.000000   \n",
       "max            2.681134                1.576943     1.0  99000.000000   \n",
       "\n",
       "             idade  \n",
       "count  2401.000000  \n",
       "mean     76.497293  \n",
       "std       8.660837  \n",
       "min      63.000000  \n",
       "25%      69.000000  \n",
       "50%      75.000000  \n",
       "75%      83.000000  \n",
       "max     101.000000  "
      ]
     },
     "execution_count": 561,
     "metadata": {},
     "output_type": "execute_result"
    }
   ],
   "source": [
    "# Grupo verde: Mais velhos. Renda muito diversificada porém tendendo ao cento\n",
    "clientes_processado[clientes_processado['grupo'] == 1].describe()"
   ]
  },
  {
   "attachments": {},
   "cell_type": "markdown",
   "metadata": {},
   "source": [
    "Tendo em vista que os mais velhos são mais ativos no facebook e WhatsApp, pode-se investir em campanhas que contatem-nos por essa rede social. Pessoas com mais idade também tendem a ser mais receptivas com campanhas presenciais.\n",
    "\n",
    "Tendem a serem fiéis com as marcas que gostam. É importante gerar confiança neste tipo de cliente e focar as campanhas nos benefícios da marca. É possível criar promoções que premiem a fidelização como presente por pontos.\n",
    "\n",
    "https://www.next4.com.br/marketing-digital-para-idosos-crescimento-exponencial-nos-ultimos-anos-e-muita-oportunidade-para-sua-empresa/"
   ]
  },
  {
   "cell_type": "code",
   "execution_count": 562,
   "metadata": {},
   "outputs": [
    {
     "data": {
      "text/html": [
       "<div>\n",
       "<style scoped>\n",
       "    .dataframe tbody tr th:only-of-type {\n",
       "        vertical-align: middle;\n",
       "    }\n",
       "\n",
       "    .dataframe tbody tr th {\n",
       "        vertical-align: top;\n",
       "    }\n",
       "\n",
       "    .dataframe thead th {\n",
       "        text-align: right;\n",
       "    }\n",
       "</style>\n",
       "<table border=\"1\" class=\"dataframe\">\n",
       "  <thead>\n",
       "    <tr style=\"text-align: right;\">\n",
       "      <th></th>\n",
       "      <th>idade_processada</th>\n",
       "      <th>renda_anual_processada</th>\n",
       "      <th>grupo</th>\n",
       "      <th>renda_anual</th>\n",
       "      <th>idade</th>\n",
       "    </tr>\n",
       "  </thead>\n",
       "  <tbody>\n",
       "    <tr>\n",
       "      <th>count</th>\n",
       "      <td>2380.000000</td>\n",
       "      <td>2380.000000</td>\n",
       "      <td>2380.0</td>\n",
       "      <td>2380.000000</td>\n",
       "      <td>2380.000000</td>\n",
       "    </tr>\n",
       "    <tr>\n",
       "      <th>mean</th>\n",
       "      <td>0.575353</td>\n",
       "      <td>1.621560</td>\n",
       "      <td>2.0</td>\n",
       "      <td>99956.302521</td>\n",
       "      <td>64.394958</td>\n",
       "    </tr>\n",
       "    <tr>\n",
       "      <th>std</th>\n",
       "      <td>0.575218</td>\n",
       "      <td>0.461246</td>\n",
       "      <td>0.0</td>\n",
       "      <td>9886.056507</td>\n",
       "      <td>9.999091</td>\n",
       "    </tr>\n",
       "    <tr>\n",
       "      <th>min</th>\n",
       "      <td>-0.655436</td>\n",
       "      <td>0.783788</td>\n",
       "      <td>2.0</td>\n",
       "      <td>82000.000000</td>\n",
       "      <td>43.000000</td>\n",
       "    </tr>\n",
       "    <tr>\n",
       "      <th>25%</th>\n",
       "      <td>0.149943</td>\n",
       "      <td>1.250350</td>\n",
       "      <td>2.0</td>\n",
       "      <td>92000.000000</td>\n",
       "      <td>57.000000</td>\n",
       "    </tr>\n",
       "    <tr>\n",
       "      <th>50%</th>\n",
       "      <td>0.495105</td>\n",
       "      <td>1.530287</td>\n",
       "      <td>2.0</td>\n",
       "      <td>98000.000000</td>\n",
       "      <td>63.000000</td>\n",
       "    </tr>\n",
       "    <tr>\n",
       "      <th>75%</th>\n",
       "      <td>0.955322</td>\n",
       "      <td>1.996849</td>\n",
       "      <td>2.0</td>\n",
       "      <td>108000.000000</td>\n",
       "      <td>71.000000</td>\n",
       "    </tr>\n",
       "    <tr>\n",
       "      <th>max</th>\n",
       "      <td>2.623607</td>\n",
       "      <td>2.556723</td>\n",
       "      <td>2.0</td>\n",
       "      <td>120000.000000</td>\n",
       "      <td>100.000000</td>\n",
       "    </tr>\n",
       "  </tbody>\n",
       "</table>\n",
       "</div>"
      ],
      "text/plain": [
       "       idade_processada  renda_anual_processada   grupo    renda_anual  \\\n",
       "count       2380.000000             2380.000000  2380.0    2380.000000   \n",
       "mean           0.575353                1.621560     2.0   99956.302521   \n",
       "std            0.575218                0.461246     0.0    9886.056507   \n",
       "min           -0.655436                0.783788     2.0   82000.000000   \n",
       "25%            0.149943                1.250350     2.0   92000.000000   \n",
       "50%            0.495105                1.530287     2.0   98000.000000   \n",
       "75%            0.955322                1.996849     2.0  108000.000000   \n",
       "max            2.623607                2.556723     2.0  120000.000000   \n",
       "\n",
       "             idade  \n",
       "count  2380.000000  \n",
       "mean     64.394958  \n",
       "std       9.999091  \n",
       "min      43.000000  \n",
       "25%      57.000000  \n",
       "50%      63.000000  \n",
       "75%      71.000000  \n",
       "max     100.000000  "
      ]
     },
     "execution_count": 562,
     "metadata": {},
     "output_type": "execute_result"
    }
   ],
   "source": [
    "# Grupo vermelho: Grupo mais abastado e com a segunda maior idade média.\n",
    "clientes_processado[clientes_processado['grupo'] == 2].describe()"
   ]
  },
  {
   "attachments": {},
   "cell_type": "markdown",
   "metadata": {},
   "source": [
    "É possível chamar a atenção desses grupos com os informativos, sem dar destaque a promoções para atraí-los, tendo em vista que possuem mais renda. As estratégias de fidelização e construção de boa reputação da marca utilizadas no grupo verde, dos mais velhos, deve ser mantida. Os canais de comunicação também (WhatsApp e Facebook)."
   ]
  },
  {
   "cell_type": "code",
   "execution_count": 563,
   "metadata": {},
   "outputs": [
    {
     "data": {
      "text/html": [
       "<div>\n",
       "<style scoped>\n",
       "    .dataframe tbody tr th:only-of-type {\n",
       "        vertical-align: middle;\n",
       "    }\n",
       "\n",
       "    .dataframe tbody tr th {\n",
       "        vertical-align: top;\n",
       "    }\n",
       "\n",
       "    .dataframe thead th {\n",
       "        text-align: right;\n",
       "    }\n",
       "</style>\n",
       "<table border=\"1\" class=\"dataframe\">\n",
       "  <thead>\n",
       "    <tr style=\"text-align: right;\">\n",
       "      <th></th>\n",
       "      <th>idade_processada</th>\n",
       "      <th>renda_anual_processada</th>\n",
       "      <th>grupo</th>\n",
       "      <th>renda_anual</th>\n",
       "      <th>idade</th>\n",
       "    </tr>\n",
       "  </thead>\n",
       "  <tbody>\n",
       "    <tr>\n",
       "      <th>count</th>\n",
       "      <td>3079.000000</td>\n",
       "      <td>3079.000000</td>\n",
       "      <td>3079.0</td>\n",
       "      <td>3079.000000</td>\n",
       "      <td>3079.000000</td>\n",
       "    </tr>\n",
       "    <tr>\n",
       "      <th>mean</th>\n",
       "      <td>0.300814</td>\n",
       "      <td>-0.958083</td>\n",
       "      <td>3.0</td>\n",
       "      <td>44665.800585</td>\n",
       "      <td>59.622605</td>\n",
       "    </tr>\n",
       "    <tr>\n",
       "      <th>std</th>\n",
       "      <td>0.506668</td>\n",
       "      <td>0.405842</td>\n",
       "      <td>0.0</td>\n",
       "      <td>8698.567559</td>\n",
       "      <td>8.807476</td>\n",
       "    </tr>\n",
       "    <tr>\n",
       "      <th>min</th>\n",
       "      <td>-0.597909</td>\n",
       "      <td>-1.642333</td>\n",
       "      <td>3.0</td>\n",
       "      <td>30000.000000</td>\n",
       "      <td>44.000000</td>\n",
       "    </tr>\n",
       "    <tr>\n",
       "      <th>25%</th>\n",
       "      <td>-0.080165</td>\n",
       "      <td>-1.315740</td>\n",
       "      <td>3.0</td>\n",
       "      <td>37000.000000</td>\n",
       "      <td>53.000000</td>\n",
       "    </tr>\n",
       "    <tr>\n",
       "      <th>50%</th>\n",
       "      <td>0.264997</td>\n",
       "      <td>-0.942491</td>\n",
       "      <td>3.0</td>\n",
       "      <td>45000.000000</td>\n",
       "      <td>59.000000</td>\n",
       "    </tr>\n",
       "    <tr>\n",
       "      <th>75%</th>\n",
       "      <td>0.667687</td>\n",
       "      <td>-0.615897</td>\n",
       "      <td>3.0</td>\n",
       "      <td>52000.000000</td>\n",
       "      <td>66.000000</td>\n",
       "    </tr>\n",
       "    <tr>\n",
       "      <th>max</th>\n",
       "      <td>2.048336</td>\n",
       "      <td>-0.149336</td>\n",
       "      <td>3.0</td>\n",
       "      <td>62000.000000</td>\n",
       "      <td>90.000000</td>\n",
       "    </tr>\n",
       "  </tbody>\n",
       "</table>\n",
       "</div>"
      ],
      "text/plain": [
       "       idade_processada  renda_anual_processada   grupo   renda_anual  \\\n",
       "count       3079.000000             3079.000000  3079.0   3079.000000   \n",
       "mean           0.300814               -0.958083     3.0  44665.800585   \n",
       "std            0.506668                0.405842     0.0   8698.567559   \n",
       "min           -0.597909               -1.642333     3.0  30000.000000   \n",
       "25%           -0.080165               -1.315740     3.0  37000.000000   \n",
       "50%            0.264997               -0.942491     3.0  45000.000000   \n",
       "75%            0.667687               -0.615897     3.0  52000.000000   \n",
       "max            2.048336               -0.149336     3.0  62000.000000   \n",
       "\n",
       "             idade  \n",
       "count  3079.000000  \n",
       "mean     59.622605  \n",
       "std       8.807476  \n",
       "min      44.000000  \n",
       "25%      53.000000  \n",
       "50%      59.000000  \n",
       "75%      66.000000  \n",
       "max      90.000000  "
      ]
     },
     "execution_count": 563,
     "metadata": {},
     "output_type": "execute_result"
    }
   ],
   "source": [
    "# Grupo roxo: idade mediana para mais e renda baixa. \n",
    "clientes_processado[clientes_processado['grupo'] == 3].describe()"
   ]
  },
  {
   "attachments": {},
   "cell_type": "markdown",
   "metadata": {},
   "source": [
    "Por se tratar de um grupo com renda baixa é importante informá-los de descontos e promoções. Possuem uma ampla gama de idades que vai da geração X aos mais idosos. Um misto dos canais de comunicação, desde e-mail às redes variadas é interessante neste caso."
   ]
  },
  {
   "cell_type": "code",
   "execution_count": 564,
   "metadata": {},
   "outputs": [
    {
     "data": {
      "text/html": [
       "<div>\n",
       "<style scoped>\n",
       "    .dataframe tbody tr th:only-of-type {\n",
       "        vertical-align: middle;\n",
       "    }\n",
       "\n",
       "    .dataframe tbody tr th {\n",
       "        vertical-align: top;\n",
       "    }\n",
       "\n",
       "    .dataframe thead th {\n",
       "        text-align: right;\n",
       "    }\n",
       "</style>\n",
       "<table border=\"1\" class=\"dataframe\">\n",
       "  <thead>\n",
       "    <tr style=\"text-align: right;\">\n",
       "      <th></th>\n",
       "      <th>idade_processada</th>\n",
       "      <th>renda_anual_processada</th>\n",
       "      <th>grupo</th>\n",
       "      <th>renda_anual</th>\n",
       "      <th>idade</th>\n",
       "    </tr>\n",
       "  </thead>\n",
       "  <tbody>\n",
       "    <tr>\n",
       "      <th>count</th>\n",
       "      <td>3532.000000</td>\n",
       "      <td>3532.000000</td>\n",
       "      <td>3532.0</td>\n",
       "      <td>3532.000000</td>\n",
       "      <td>3532.000000</td>\n",
       "    </tr>\n",
       "    <tr>\n",
       "      <th>mean</th>\n",
       "      <td>-0.201295</td>\n",
       "      <td>0.377998</td>\n",
       "      <td>4.0</td>\n",
       "      <td>73302.548131</td>\n",
       "      <td>50.894394</td>\n",
       "    </tr>\n",
       "    <tr>\n",
       "      <th>std</th>\n",
       "      <td>0.420992</td>\n",
       "      <td>0.423501</td>\n",
       "      <td>0.0</td>\n",
       "      <td>9077.064207</td>\n",
       "      <td>7.318146</td>\n",
       "    </tr>\n",
       "    <tr>\n",
       "      <th>min</th>\n",
       "      <td>-1.288234</td>\n",
       "      <td>-0.429273</td>\n",
       "      <td>4.0</td>\n",
       "      <td>56000.000000</td>\n",
       "      <td>32.000000</td>\n",
       "    </tr>\n",
       "    <tr>\n",
       "      <th>25%</th>\n",
       "      <td>-0.482855</td>\n",
       "      <td>0.037289</td>\n",
       "      <td>4.0</td>\n",
       "      <td>66000.000000</td>\n",
       "      <td>46.000000</td>\n",
       "    </tr>\n",
       "    <tr>\n",
       "      <th>50%</th>\n",
       "      <td>-0.195220</td>\n",
       "      <td>0.363882</td>\n",
       "      <td>4.0</td>\n",
       "      <td>73000.000000</td>\n",
       "      <td>51.000000</td>\n",
       "    </tr>\n",
       "    <tr>\n",
       "      <th>75%</th>\n",
       "      <td>0.149943</td>\n",
       "      <td>0.690476</td>\n",
       "      <td>4.0</td>\n",
       "      <td>80000.000000</td>\n",
       "      <td>57.000000</td>\n",
       "    </tr>\n",
       "    <tr>\n",
       "      <th>max</th>\n",
       "      <td>0.610160</td>\n",
       "      <td>1.576943</td>\n",
       "      <td>4.0</td>\n",
       "      <td>99000.000000</td>\n",
       "      <td>65.000000</td>\n",
       "    </tr>\n",
       "  </tbody>\n",
       "</table>\n",
       "</div>"
      ],
      "text/plain": [
       "       idade_processada  renda_anual_processada   grupo   renda_anual  \\\n",
       "count       3532.000000             3532.000000  3532.0   3532.000000   \n",
       "mean          -0.201295                0.377998     4.0  73302.548131   \n",
       "std            0.420992                0.423501     0.0   9077.064207   \n",
       "min           -1.288234               -0.429273     4.0  56000.000000   \n",
       "25%           -0.482855                0.037289     4.0  66000.000000   \n",
       "50%           -0.195220                0.363882     4.0  73000.000000   \n",
       "75%            0.149943                0.690476     4.0  80000.000000   \n",
       "max            0.610160                1.576943     4.0  99000.000000   \n",
       "\n",
       "             idade  \n",
       "count  3532.000000  \n",
       "mean     50.894394  \n",
       "std       7.318146  \n",
       "min      32.000000  \n",
       "25%      46.000000  \n",
       "50%      51.000000  \n",
       "75%      57.000000  \n",
       "max      65.000000  "
      ]
     },
     "execution_count": 564,
     "metadata": {},
     "output_type": "execute_result"
    }
   ],
   "source": [
    "# Grupo laranja: renda média e idade média\n",
    "clientes_processado[clientes_processado['grupo'] == 4].describe()"
   ]
  },
  {
   "attachments": {},
   "cell_type": "markdown",
   "metadata": {},
   "source": [
    "A geração X é um grupo de faixa etária que consome informação no meio digital mas também de forma significativa nos veículos tradicionais como TV, rádio e jornal. É necessário mesclar neste grupo estratégias utilizadas para os grupos dos mais velhos também.\n",
    "\n",
    "https://consumidormoderno.com.br/2021/06/18/estrategias-marketing-geracao-x/"
   ]
  },
  {
   "cell_type": "code",
   "execution_count": null,
   "metadata": {},
   "outputs": [],
   "source": []
  }
 ],
 "metadata": {
  "kernelspec": {
   "display_name": "alura_pandas",
   "language": "python",
   "name": "python3"
  },
  "language_info": {
   "codemirror_mode": {
    "name": "ipython",
    "version": 3
   },
   "file_extension": ".py",
   "mimetype": "text/x-python",
   "name": "python",
   "nbconvert_exporter": "python",
   "pygments_lexer": "ipython3",
   "version": "3.10.4"
  },
  "orig_nbformat": 4
 },
 "nbformat": 4,
 "nbformat_minor": 2
}
